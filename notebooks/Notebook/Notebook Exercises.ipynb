{
 "metadata": {
  "name": "",
  "signature": "sha256:b4a94852fe2605d273d24c680a9ba5075535160a144f747b162b26a75db88882"
 },
 "nbformat": 3,
 "nbformat_minor": 0,
 "worksheets": [
  {
   "cells": [
    {
     "cell_type": "heading",
     "level": 1,
     "metadata": {},
     "source": [
      "Notebook Exercises"
     ]
    },
    {
     "cell_type": "heading",
     "level": 2,
     "metadata": {},
     "source": [
      "Notebook UI"
     ]
    },
    {
     "cell_type": "heading",
     "level": 3,
     "metadata": {},
     "source": [
      "Part 1"
     ]
    },
    {
     "cell_type": "markdown",
     "metadata": {},
     "source": [
      "Create a new Notebook and create a couple of cells that contain simple Python expressions. \n",
      "\n",
      "Practice shifting between command and edit mode a few times, going back to edit existing cells.\n",
      "\n",
      "Try using `time.sleep(2)` and watch the kernel activity indicator."
     ]
    },
    {
     "cell_type": "code",
     "collapsed": false,
     "input": [
      "from time import sleep\n",
      "sleep(2)"
     ],
     "language": "python",
     "metadata": {},
     "outputs": []
    },
    {
     "cell_type": "heading",
     "level": 3,
     "metadata": {},
     "source": [
      "Part 2"
     ]
    },
    {
     "cell_type": "markdown",
     "metadata": {},
     "source": [
      "Go back to that last Notebook and  add at least one of each cell type.  Practice the following cell operations:\n",
      "\n",
      "* Moving up/down\n",
      "* Cut/Copy/Paste\n",
      "* Merge/Split"
     ]
    },
    {
     "cell_type": "code",
     "collapsed": false,
     "input": [],
     "language": "python",
     "metadata": {},
     "outputs": []
    },
    {
     "cell_type": "heading",
     "level": 3,
     "metadata": {},
     "source": [
      "Part 3"
     ]
    },
    {
     "cell_type": "markdown",
     "metadata": {},
     "source": [
      "Go back to that last Notebook and repeat some of those cell operations using keyboard shortcuts:\n",
      "\n",
      "* Inserting cells above/below\n",
      "* Delete cell\n",
      "* Move cell up/down\n",
      "* Cut/copy/paste cell\n",
      "* Changing cell types"
     ]
    },
    {
     "cell_type": "code",
     "collapsed": false,
     "input": [],
     "language": "python",
     "metadata": {},
     "outputs": []
    },
    {
     "cell_type": "heading",
     "level": 2,
     "metadata": {},
     "source": [
      "External code"
     ]
    },
    {
     "cell_type": "markdown",
     "metadata": {},
     "source": [
      "Go to the [Matplotlib gallery](http://matplotlib.org/gallery.html), view the raw Python code for an example, use `%load` to load it into a cell and then run it.  Make sure you run:\n",
      "\n",
      "    %matplotlib inline\n",
      "\n",
      "first to enable plotting support.\n",
      "\n",
      "If you don't have matplotlib installed, find any other simple python script online (or on your local drive), load it and execute it locally."
     ]
    },
    {
     "cell_type": "code",
     "collapsed": false,
     "input": [
      "%load soln/load.py"
     ],
     "language": "python",
     "metadata": {},
     "outputs": []
    },
    {
     "cell_type": "heading",
     "level": 2,
     "metadata": {},
     "source": [
      "Restarting the kernel"
     ]
    },
    {
     "cell_type": "markdown",
     "metadata": {},
     "source": [
      "Define a variable in a Notebook, then use the \"Kernel:Restart\" menu item to restart the Kernel and verify that the variable has been cleared."
     ]
    },
    {
     "cell_type": "heading",
     "level": 2,
     "metadata": {},
     "source": [
      "Typesetting equations"
     ]
    },
    {
     "cell_type": "markdown",
     "metadata": {},
     "source": [
      "Go to the [MathJax website](http://www.mathjax.org/) and copy an example equations.  Paste it into a Markdown cell and verify it gets rendered correctly. Then try some LaTeX of your own."
     ]
    }
   ],
   "metadata": {}
  }
 ]
}