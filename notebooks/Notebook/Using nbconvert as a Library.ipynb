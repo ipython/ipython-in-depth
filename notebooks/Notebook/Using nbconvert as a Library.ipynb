{
 "metadata": {
  "name": ""
 },
 "nbformat": 3,
 "nbformat_minor": 0,
 "worksheets": [
  {
   "cells": [
    {
     "cell_type": "heading",
     "level": 1,
     "metadata": {},
     "source": [
      "NbConvert, Python library"
     ]
    },
    {
     "cell_type": "markdown",
     "metadata": {},
     "source": [
      "In this Notebook, I will introduce you to the programatic API of nbconvert to show you how to use it in various context. \n",
      "\n",
      "For this I will use one of [@jakevdp](https://github.com/jakevdp) great [blog post](http://jakevdp.github.io/blog/2013/04/15/code-golf-in-python-sudoku/).\n",
      "I've explicitely chosen a post with no javascript tricks as Jake seem to be found of right now, for the reason that the becommings of embeding javascript in nbviewer, which is based on nbconvert is not fully decided yet. \n",
      "\n",
      "\n",
      "This will not focus on using the command line tool to convert file. The attentive reader will point-out that no data are read from, or written to disk during the conversion process. Indeed, nbconvert as been though as much as\n",
      "possible to avoid IO operation and work as well in a database, or web-based environement."
     ]
    },
    {
     "cell_type": "heading",
     "level": 4,
     "metadata": {},
     "source": [
      "Quick overview"
     ]
    },
    {
     "cell_type": "markdown",
     "metadata": {},
     "source": [
      "<pre style='background-color:#FDD'> Warning, Do use 1.0 or 1.x branch and not master naming have changed.</pre>\n",
      "\n",
      "<pre style='background-color:#FDD'> Warning, NbConvert is a Tech-Preview, API will change within the next 6 month.</pre>"
     ]
    },
    {
     "cell_type": "markdown",
     "metadata": {},
     "source": [
      "Credit, Jonathan Freder (@jdfreder on github)\n",
      "\n",
      "<center>\n",
      " ![nbca](files/nbconvert_arch.png)\n",
      "</center>"
     ]
    },
    {
     "cell_type": "markdown",
     "metadata": {},
     "source": [
      "The main principle of nbconvert is to instanciate a `Exporter` that controle\n",
      "a pipeline through which each notebook you want to export with go through."
     ]
    },
    {
     "cell_type": "markdown",
     "metadata": {},
     "source": [
      "Let's start by importing what we need from the API, and download @jakevdp's notebook."
     ]
    },
    {
     "cell_type": "code",
     "collapsed": false,
     "input": [
      "import requests\n",
      "response = requests.get('http://jakevdp.github.com/downloads/notebooks/XKCD_plots.ipynb')\n",
      "response.content[0:60]+'...'"
     ],
     "language": "python",
     "metadata": {},
     "outputs": [
      {
       "metadata": {},
       "output_type": "pyout",
       "prompt_number": 1,
       "text": [
        "'{\\n \"metadata\": {\\n  \"name\": \"XKCD_plots\"\\n },\\n \"nbformat\": 3,\\n...'"
       ]
      }
     ],
     "prompt_number": 1
    },
    {
     "cell_type": "markdown",
     "metadata": {},
     "source": [
      "If you do not have request install downlad by hand, and read the file as usual."
     ]
    },
    {
     "cell_type": "markdown",
     "metadata": {},
     "source": [
      "We read the response into a slightly more convenient format which represent IPython notebook. \n",
      "There are not real advantages for now, except some convenient methods, but with time this structure should be able to\n",
      "guarantee that the notebook structure is valid. Note also that the in-memory format and on disk format can be slightly different. In particual, on disk, multiline strings might be spitted into list of string to be more version control friendly."
     ]
    },
    {
     "cell_type": "code",
     "collapsed": false,
     "input": [
      "from IPython.nbformat import current as nbformat\n",
      "jake_notebook = nbformat.reads_json(response.content)\n",
      "jake_notebook.worksheets[0].cells[0]"
     ],
     "language": "python",
     "metadata": {},
     "outputs": [
      {
       "metadata": {},
       "output_type": "pyout",
       "prompt_number": 2,
       "text": [
        "{u'cell_type': u'heading',\n",
        " u'level': 1,\n",
        " u'metadata': {},\n",
        " u'source': u'XKCD plots in Matplotlib'}"
       ]
      }
     ],
     "prompt_number": 2
    },
    {
     "cell_type": "markdown",
     "metadata": {},
     "source": [
      "So we have here Jake's notebook in a convenient form, which is mainly a Super-Powered dict and list nested.\n",
      "You don't need to worry about the exact structure."
     ]
    },
    {
     "cell_type": "markdown",
     "metadata": {},
     "source": [
      "The nbconvert API exposes some basic exporter for common format and default options. We will start\n",
      "by using one of them. First we import it, instanciate an instance with most of the default parameters and fed it\n",
      "the downloaded notebook. "
     ]
    },
    {
     "cell_type": "code",
     "collapsed": false,
     "input": [
      "import IPython.nbconvert"
     ],
     "language": "python",
     "metadata": {},
     "outputs": [],
     "prompt_number": 3
    },
    {
     "cell_type": "code",
     "collapsed": false,
     "input": [
      "from IPython.config import Config\n",
      "from IPython.nbconvert import HTMLExporter\n",
      "\n",
      "## I use `basic` here to have less boilerplate and headers in the HTML.\n",
      "## we'll see later how to pass config to exporters.\n",
      "exportHtml = HTMLExporter(config=Config({'HTMLExporter':{'default_template':'basic'}}))"
     ],
     "language": "python",
     "metadata": {},
     "outputs": [],
     "prompt_number": 4
    },
    {
     "cell_type": "code",
     "collapsed": false,
     "input": [
      "(body, resources) = exportHtml.from_notebook_node(jake_notebook)"
     ],
     "language": "python",
     "metadata": {},
     "outputs": [],
     "prompt_number": 5
    },
    {
     "cell_type": "markdown",
     "metadata": {},
     "source": [
      "The exporter returns a tuple containing the body of the converted notebook, here raw HTML, as well as a resources dict.\n",
      "The resource dict contains (among many things) the extracted PNG, JPG [...etc] from the notebook when applicable.\n",
      "The basic HTML exporter does keep them as embeded base64 into the notebook, but one can do ask the figures to be extracted. Cf advance use. So for now the resource dict **should** be mostly empty, except for 1 key containing some css, and 2 others whose content will be obvious.\n",
      "\n",
      "Exporter are stateless, you won't be able to extract any usefull information (except their configuration) from them.\n",
      "You can directly re-use the instance to convert another notebook. Each exporter expose for convenience a `from_file` and `from_filename` methods if you need."
     ]
    },
    {
     "cell_type": "code",
     "collapsed": false,
     "input": [
      "print resources.keys()\n",
      "print resources['metadata']\n",
      "print resources['output_extension']\n",
      "# print resources['inlining'] # too lng to be shown"
     ],
     "language": "python",
     "metadata": {},
     "outputs": [
      {
       "output_type": "stream",
       "stream": "stdout",
       "text": [
        "['inlining', 'output_extension', 'metadata']\n",
        "defaultdict(None, {'name': 'Notebook'})\n",
        "html\n"
       ]
      }
     ],
     "prompt_number": 6
    },
    {
     "cell_type": "code",
     "collapsed": false,
     "input": [
      "# Part of the body, here the first Heading\n",
      "start = body.index('<h1 id', )\n",
      "print body[:400]+'...'"
     ],
     "language": "python",
     "metadata": {},
     "outputs": [
      {
       "output_type": "stream",
       "stream": "stdout",
       "text": [
        "\n",
        "<div class=\"text_cell_render border-box-sizing rendered_html\">\n",
        "<h1 id=\"XKCD-plots-in-Matplotlib\">XKCD plots in Matplotlib<a class=\"anchor-link\" href=\"#XKCD-plots-in-Matplotlib\">&#182;</a></h1>\n",
        "</div>\n",
        "\n",
        "<div class=\"text_cell_render border-box-sizing rendered_html\">\n",
        "<p>This notebook originally appeared as a blog post at <a href=\"http://jakevdp.github.com/blog/2012/10/07/xkcd-style-plots-in-matplotli...\n"
       ]
      }
     ],
     "prompt_number": 7
    },
    {
     "cell_type": "markdown",
     "metadata": {},
     "source": [
      "You can directly write the body into an HTML file if you wish, as you see it does not contains any body tag, or style declaration, but thoses are included in the default HtmlExporter if you do not pass it a config object as I did."
     ]
    },
    {
     "cell_type": "heading",
     "level": 4,
     "metadata": {},
     "source": [
      "Extracting Figures"
     ]
    },
    {
     "cell_type": "markdown",
     "metadata": {},
     "source": [
      "When exporting one might want to extract the base64 encoded figures to separate files, this is by default what does the RstExporter does, let see how to use it. "
     ]
    },
    {
     "cell_type": "code",
     "collapsed": false,
     "input": [
      "from IPython.nbconvert import RSTExporter\n",
      "\n",
      "rst_export = RSTExporter()\n",
      "\n",
      "(body,resources) = rst_export.from_notebook_node(jake_notebook)"
     ],
     "language": "python",
     "metadata": {},
     "outputs": [],
     "prompt_number": 8
    },
    {
     "cell_type": "code",
     "collapsed": false,
     "input": [
      "print body[:970]+'...'\n",
      "print '[.....]'\n",
      "print body[800:1200]+'...'"
     ],
     "language": "python",
     "metadata": {},
     "outputs": [
      {
       "output_type": "stream",
       "stream": "stdout",
       "text": [
        "\n",
        "XKCD plots in Matplotlib\n",
        "========================\n",
        "\n",
        "\n",
        "This notebook originally appeared as a blog post at `Pythonic\n",
        "Perambulations <http://jakevdp.github.com/blog/2012/10/07/xkcd-style-plots-in-matplotlib/>`_\n",
        "by Jake Vanderplas.\n",
        "\n",
        " *Update: the matplotlib pull request has been merged! See* `*This\n",
        "post* <http://jakevdp.github.io/blog/2013/07/10/XKCD-plots-in-matplotlib/>`_\n",
        "*for a description of the XKCD functionality now built-in to\n",
        "matplotlib!*\n",
        "\n",
        "One of the problems I've had with typical matplotlib figures is that\n",
        "everything in them is so precise, so perfect. For an example of what I\n",
        "mean, take a look at this figure:\n",
        "In[1]:\n",
        ".. code:: python\n",
        "\n",
        "    from IPython.display import Image\n",
        "    Image('http://jakevdp.github.com/figures/xkcd_version.png')\n",
        "\n",
        "\n",
        "\n",
        "\n",
        "\n",
        ".. image:: output_3_0.png\n",
        "\n",
        "\n",
        "\n",
        "Sometimes when showing schematic plots, this is the type of figure I\n",
        "want to display. But drawing it by hand is a pain: I'd rather just use\n",
        "matplotlib. The problem is, matplotlib is a bit...\n",
        "[.....]\n",
        "owing schematic plots, this is the type of figure I\n",
        "want to display. But drawing it by hand is a pain: I'd rather just use\n",
        "matplotlib. The problem is, matplotlib is a bit too precise. Attempting\n",
        "to duplicate this figure in matplotlib leads to something like this:\n",
        "In[2]:\n",
        ".. code:: python\n",
        "\n",
        "    Image('http://jakevdp.github.com/figures/mpl_version.png')\n",
        "\n",
        "\n",
        "\n",
        "\n",
        "\n",
        ".. image:: output_5_0.png\n",
        "\n",
        "\n",
        "\n",
        "It just doesn'...\n"
       ]
      }
     ],
     "prompt_number": 9
    },
    {
     "cell_type": "markdown",
     "metadata": {},
     "source": [
      "Here we see that base64 images are not embeded, but we get what look like file name. Actually those are (Configurable) keys to get back the binary data from the resources dict we havent inspected earlier.\n"
     ]
    },
    {
     "cell_type": "markdown",
     "metadata": {},
     "source": [
      "So when writing a Rst Plugin for any blogengine, Sphinx or anything else, you will be responsible for writing all those data to disk, in the right place. \n",
      "Of course to help you in this task all those naming are configurable in the right place."
     ]
    },
    {
     "cell_type": "markdown",
     "metadata": {},
     "source": [
      "let's try to see how to get one of these images"
     ]
    },
    {
     "cell_type": "code",
     "collapsed": false,
     "input": [
      "resources['outputs'].keys()"
     ],
     "language": "python",
     "metadata": {},
     "outputs": [
      {
       "metadata": {},
       "output_type": "pyout",
       "prompt_number": 10,
       "text": [
        "[u'output_13_1.text',\n",
        " u'output_18_0.text',\n",
        " u'output_3_0.text',\n",
        " u'output_18_1.png',\n",
        " u'output_12_0.text',\n",
        " u'output_5_0.text',\n",
        " u'output_5_0.png',\n",
        " u'output_13_1.png',\n",
        " u'output_16_0.text',\n",
        " u'output_13_0.text',\n",
        " u'output_18_1.text',\n",
        " u'output_3_0.png',\n",
        " u'output_16_0.png']"
       ]
      }
     ],
     "prompt_number": 10
    },
    {
     "cell_type": "markdown",
     "metadata": {},
     "source": [
      "We have extracted 5 binary figures, here `png`s, but they could have been svg, and then wouldn't appear in the binary sub dict.\n",
      "keep in mind that a object having multiple _repr_ will store all it's repr in the notebook. \n",
      "\n",
      "Hence if you provide `_repr_javascript_`,`_repr_latex_` and `_repr_png_`to an object, you will be able to determine at conversion time which representaition is the more appropriate. You could even decide to show all the representaition of an object, it's up to you. But this will require beeing a little more involve and write a few line of Jinja template. This will probably be the subject of another tutorial.\n",
      "\n",
      "Back to our images,\n",
      "\n"
     ]
    },
    {
     "cell_type": "code",
     "collapsed": false,
     "input": [
      "from IPython.display import Image\n",
      "Image(data=resources['outputs']['output_3_0.png'],format='png')"
     ],
     "language": "python",
     "metadata": {},
     "outputs": [
      {
       "metadata": {},
       "output_type": "pyout",
       "png": "[encoded data removed]",
       "prompt_number": 11,
       "text": [
        "<IPython.core.display.Image at 0x10d2bbf90>"
       ]
      }
     ],
     "prompt_number": 11
    },
    {
     "cell_type": "markdown",
     "metadata": {},
     "source": [
      "Yep, this is indeed the image we were expecting, and I was able to see it without ever writing or reading it from disk. I don't think I'll have to show to you what to do with those data, as if you are here you are most probably familiar with IO."
     ]
    },
    {
     "cell_type": "heading",
     "level": 2,
     "metadata": {},
     "source": [
      "Extracting figures with HTML Exporter ?"
     ]
    },
    {
     "cell_type": "markdown",
     "metadata": {},
     "source": [
      "Use case:\n",
      "\n",
      "> I write an [awesome blog](http://jakevdp.github.io/) in HTML, and I want all but having base64 embeded images. \n",
      "Having one html file with all inside is nice to send to coworker, but I definitively want resources to be cached !\n",
      "So I need an HTML exporter, and I want it to extract the figures !"
     ]
    },
    {
     "cell_type": "heading",
     "level": 3,
     "metadata": {},
     "source": [
      "Some theory"
     ]
    },
    {
     "cell_type": "markdown",
     "metadata": {},
     "source": [
      "The process of converting a notebook to a another format with the nbconvert Exporters happend in a few steps:\n",
      "\n",
      "  - Get the notebook data and other required files. (you are responsible for that)\n",
      "  - Feed them to the exporter that will\n",
      "      - sequentially feed the data to a number of `Transformers`. Transformer only act on the **structure**\n",
      "      of the notebook, and have access to it all. \n",
      "      - feed the notebook through the jinja templating engine\n",
      "          - the use templates are configurable.\n",
      "          - templates make use of configurable macros called filters.\n",
      "  - The exporter return the converted notebook as well as other relevant resources as a tuple.\n",
      "  - Write what you need to disk, or elsewhere. (You are responsible for it)"
     ]
    },
    {
     "cell_type": "markdown",
     "metadata": {},
     "source": [
      "Here we'll be interested in the `Transformers`. Each `Transformer` is applied successively and in order on the notebook before going through the conversion process.\n",
      "\n",
      "We provide some transformer that do some modification on the notebook structure by default.\n",
      "One of them, the `ExtractOutputTransformer` is responsible for crawling notebook,\n",
      "finding all the figures, and put them into the resources directory, as well as choosing the key\n",
      "(`filename_xx_y.extension`) that can replace the figure in the template.\n",
      "\n",
      "\n",
      "The `ExtractOutputTransformer` is special in the fact that it **should** be availlable on all `Exporter`s, but is just inactive by default on some exporter."
     ]
    },
    {
     "cell_type": "code",
     "collapsed": false,
     "input": [
      "# second transformer shoudl be Instance of ExtractFigureTransformer\n",
      "exportHtml._transformers # 3rd one shouel be <ExtractOutputTransformer>"
     ],
     "language": "python",
     "metadata": {},
     "outputs": [
      {
       "metadata": {},
       "output_type": "pyout",
       "prompt_number": 12,
       "text": [
        "[<function IPython.nbconvert.transformers.coalescestreams.wrappedfunc>,\n",
        " <IPython.nbconvert.transformers.svg2pdf.SVG2PDFTransformer at 0x10d2a7490>,\n",
        " <IPython.nbconvert.transformers.extractoutput.ExtractOutputTransformer at 0x10d2a7ad0>,\n",
        " <IPython.nbconvert.transformers.csshtmlheader.CSSHTMLHeaderTransformer at 0x10d2a7b50>,\n",
        " <IPython.nbconvert.transformers.revealhelp.RevealHelpTransformer at 0x10d29dd90>,\n",
        " <IPython.nbconvert.transformers.latex.LatexTransformer at 0x10d29db50>,\n",
        " <IPython.nbconvert.transformers.sphinx.SphinxTransformer at 0x10d2a7b90>]"
       ]
      }
     ],
     "prompt_number": 12
    },
    {
     "cell_type": "markdown",
     "metadata": {},
     "source": [
      "To enable it we will use IPython configuration/Traitlets system. If you are have already set some IPython configuration options, \n",
      "this will look pretty familiar to you. Configuration option are always of the form:\n",
      "\n",
      "   ClassName.attribute_name = value\n",
      "   \n",
      "A few ways exist to create such config, like reading a config file in your profile, but you can also do it programatically usign a dictionary. Let's create such a config object, and see the difference if we pass it to our `HtmlExporter`"
     ]
    },
    {
     "cell_type": "code",
     "collapsed": false,
     "input": [
      "from IPython.config import Config\n",
      "\n",
      "c =  Config({\n",
      "            'ExtractOutputTransformer':{'enabled':True}\n",
      "            })\n",
      "\n",
      "exportHtml = HTMLExporter()\n",
      "exportHtml_and_figs = HTMLExporter(config=c)\n",
      "\n",
      "(_, resources)          = exportHtml.from_notebook_node(jake_notebook)\n",
      "(_, resources_with_fig) = exportHtml_and_figs.from_notebook_node(jake_notebook)\n",
      "\n",
      "print 'resources without the \"figures\" key :'\n",
      "print resources.keys()\n",
      "\n",
      "print ''\n",
      "print 'Here we have one more field '\n",
      "print resources_with_fig.keys()\n",
      "resources_with_fig['outputs'].keys() "
     ],
     "language": "python",
     "metadata": {},
     "outputs": [
      {
       "output_type": "stream",
       "stream": "stdout",
       "text": [
        "resources without the \"figures\" key :\n",
        "['inlining', 'output_extension', 'metadata']\n",
        "\n",
        "Here we have one more field \n",
        "['outputs', 'inlining', 'output_extension', 'metadata']\n"
       ]
      },
      {
       "metadata": {},
       "output_type": "pyout",
       "prompt_number": 13,
       "text": [
        "[u'output_13_1.text',\n",
        " u'output_18_0.text',\n",
        " u'output_3_0.text',\n",
        " u'output_18_1.png',\n",
        " u'output_12_0.text',\n",
        " u'output_5_0.text',\n",
        " u'output_5_0.png',\n",
        " u'output_13_1.png',\n",
        " u'output_16_0.text',\n",
        " u'output_13_0.text',\n",
        " u'output_18_1.text',\n",
        " u'output_3_0.png',\n",
        " u'output_16_0.png']"
       ]
      }
     ],
     "prompt_number": 13
    },
    {
     "cell_type": "markdown",
     "metadata": {},
     "source": [
      "So now you can loop through the dict and write all those figures to disk in the right place... "
     ]
    },
    {
     "cell_type": "heading",
     "level": 4,
     "metadata": {},
     "source": [
      "Custom transformer"
     ]
    },
    {
     "cell_type": "markdown",
     "metadata": {},
     "source": [
      "Of course you can imagine many transformation that you would like to apply to a notebook. This is one of the reason we provide a way to register your own transformers that will be applied to the notebook after the default ones.\n",
      "\n",
      "To do so you'll have to pass an ordered list of `Transformer`s to the Exporter constructor. \n",
      "\n",
      "But what is an transformer ? Transformer can be either *decorated function* for dead-simple `Transformer`s that apply\n",
      "independently to each cell, for more advance transformation that support configurability You have to inherit from\n",
      "`Transformer` and define a `call` method as we'll see below.\n",
      "\n",
      "All transforers have a magic attribute that allows it to be activated/disactivate from the config dict."
     ]
    },
    {
     "cell_type": "code",
     "collapsed": false,
     "input": [
      "from IPython.nbconvert.transformers import Transformer\n",
      "import IPython.config\n",
      "print \"Four relevant docstring\"\n",
      "print '============================='\n",
      "print Transformer.__doc__\n",
      "print '============================='\n",
      "print Transformer.call.__doc__\n",
      "print '============================='\n",
      "print Transformer.transform_cell.__doc__\n",
      "print '============================='"
     ],
     "language": "python",
     "metadata": {},
     "outputs": [
      {
       "output_type": "stream",
       "stream": "stdout",
       "text": [
        "Four relevant docstring\n",
        "=============================\n",
        " A configurable transformer\n",
        "\n",
        "    Inherit from this class if you wish to have configurability for your\n",
        "    transformer.\n",
        "\n",
        "    Any configurable traitlets this class exposed will be configurable in profiles\n",
        "    using c.SubClassName.atribute=value\n",
        "\n",
        "    you can overwrite transform_cell to apply a transformation independently on each cell\n",
        "    or __call__ if you prefer your own logic. See corresponding docstring for informations.\n",
        "\n",
        "    Disabled by default and can be enabled via the config by\n",
        "        'c.YourTransformerName.enabled = True'\n",
        "    \n",
        "=============================\n",
        "\n",
        "        Transformation to apply on each notebook.\n",
        "        \n",
        "        You should return modified nb, resources.\n",
        "        If you wish to apply your transform on each cell, you might want to \n",
        "        overwrite transform_cell method instead.\n",
        "        \n",
        "        Parameters\n",
        "        ----------\n",
        "        nb : NotebookNode\n",
        "            Notebook being converted\n",
        "        resources : dictionary\n",
        "            Additional resources used in the conversion process.  Allows\n",
        "            transformers to pass variables into the Jinja engine.\n",
        "        \n",
        "=============================\n",
        "\n",
        "        Overwrite if you want to apply a transformation on each cell.  You \n",
        "        should return modified cell and resource dictionary.\n",
        "        \n",
        "        Parameters\n",
        "        ----------\n",
        "        cell : NotebookNode cell\n",
        "            Notebook cell being processed\n",
        "        resources : dictionary\n",
        "            Additional resources used in the conversion process.  Allows\n",
        "            transformers to pass variables into the Jinja engine.\n",
        "        index : int\n",
        "            Index of the cell being processed\n",
        "        \n",
        "=============================\n"
       ]
      }
     ],
     "prompt_number": 14
    },
    {
     "cell_type": "markdown",
     "metadata": {},
     "source": [
      "***\n",
      "We don't provide convenient method to be aplied on each worksheet as the **data structure** for worksheet will be removed. (not the worksheet functionnality, which is still on it's way)\n",
      "***"
     ]
    },
    {
     "cell_type": "heading",
     "level": 3,
     "metadata": {},
     "source": [
      "Example"
     ]
    },
    {
     "cell_type": "markdown",
     "metadata": {},
     "source": [
      "I'll now demonstrate a specific example [requested](https://github.com/ipython/nbconvert/pull/137#issuecomment-18658235) while nbconvert 2 was beeing developped. The ability to exclude cell from the conversion process based on their index. \n",
      "\n",
      "I'll let you imagin how to inject cell, if what you just want is to happend static content at the beginning/end of a notebook, plese refer to templating section, it will be much easier and cleaner."
     ]
    },
    {
     "cell_type": "code",
     "collapsed": false,
     "input": [
      "from IPython.utils.traitlets import Integer"
     ],
     "language": "python",
     "metadata": {},
     "outputs": [],
     "prompt_number": 15
    },
    {
     "cell_type": "code",
     "collapsed": false,
     "input": [
      "class PelicanSubCell(Transformer):\n",
      "    \"\"\"A Pelican specific transformer to remove somme of the cells of a notebook\"\"\"\n",
      "    \n",
      "    # I could also read the cells from nbc.metadata.pelican is someone wrote a JS extension\n",
      "    # But I'll stay with configurable value. \n",
      "    start = Integer(0, config=True, help=\"first cell of notebook to be converted\")\n",
      "    end   = Integer(-1, config=True, help=\"last cell of notebook to be converted\")\n",
      "    \n",
      "    def call(self, nb, resources):\n",
      "\n",
      "        #nbc = deepcopy(nb)\n",
      "        nbc = nb\n",
      "        # don't print in real transformer !!!\n",
      "        print \"I'll keep only cells from \", self.start, \"to \", self.end, \"\\n\\n\"\n",
      "        for worksheet in nbc.worksheets :\n",
      "            cells = worksheet.cells[:]\n",
      "            worksheet.cells = cells[self.start:self.end]                    \n",
      "        return nbc, resources"
     ],
     "language": "python",
     "metadata": {},
     "outputs": [],
     "prompt_number": 16
    },
    {
     "cell_type": "code",
     "collapsed": false,
     "input": [
      "# I create this on the fly, but this could be loaded from a DB, and config object support merging...\n",
      "c =  Config({\n",
      "            'PelicanSubCell':{\n",
      "                            'enabled':True,\n",
      "                            'start':4,\n",
      "                            'end':6,\n",
      "                             }\n",
      "            })"
     ],
     "language": "python",
     "metadata": {},
     "outputs": [],
     "prompt_number": 17
    },
    {
     "cell_type": "markdown",
     "metadata": {},
     "source": [
      "I'm creating a pelican exporter that take `PelicanSubCell` extra transformers and a `config` object as parameter. This might seem redundant, but with configuration system you'll see that one can register an inactive transformer on all exporters and activate it at will form its config files and command line. "
     ]
    },
    {
     "cell_type": "code",
     "collapsed": false,
     "input": [
      "pelican = RSTExporter(transformers=[PelicanSubCell], config=c)"
     ],
     "language": "python",
     "metadata": {},
     "outputs": [],
     "prompt_number": 18
    },
    {
     "cell_type": "code",
     "collapsed": false,
     "input": [
      "print pelican.from_notebook_node(jake_notebook)[0]"
     ],
     "language": "python",
     "metadata": {},
     "outputs": [
      {
       "output_type": "stream",
       "stream": "stdout",
       "text": [
        "I'll keep only cells from  4 to  6 \n",
        "\n",
        "\n",
        "\n",
        "Sometimes when showing schematic plots, this is the type of figure I\n",
        "want to display. But drawing it by hand is a pain: I'd rather just use\n",
        "matplotlib. The problem is, matplotlib is a bit too precise. Attempting\n",
        "to duplicate this figure in matplotlib leads to something like this:\n",
        "In[2]:\n",
        ".. code:: python\n",
        "\n",
        "    Image('http://jakevdp.github.com/figures/mpl_version.png')\n",
        "\n",
        "\n",
        "\n",
        "\n",
        "\n",
        ".. image:: output_5_0.png\n",
        "\n",
        "\n"
       ]
      },
      {
       "output_type": "stream",
       "stream": "stdout",
       "text": [
        "\n"
       ]
      }
     ],
     "prompt_number": 19
    },
    {
     "cell_type": "heading",
     "level": 3,
     "metadata": {},
     "source": [
      "Programatic example of extending templates / cutom filters"
     ]
    },
    {
     "cell_type": "code",
     "collapsed": false,
     "input": [
      "from IPython.nbconvert.filters.highlight import _pygment_highlight\n",
      "from pygments.formatters import HtmlFormatter\n",
      "\n",
      "from IPython.nbconvert.exporters import HTMLExporter\n",
      "from IPython.config import Config\n",
      "\n",
      "from IPython.nbformat import current as nbformat"
     ],
     "language": "python",
     "metadata": {},
     "outputs": [],
     "prompt_number": 20
    },
    {
     "cell_type": "markdown",
     "metadata": {},
     "source": [
      "Here we define a dustom 'highlight' filter that apply a custom class to code in css. We register this filter with a already existing name, so it will replace the default one."
     ]
    },
    {
     "cell_type": "code",
     "collapsed": false,
     "input": [
      "def my_highlight(source, language='ipython'):\n",
      "    formatter = HtmlFormatter(cssclass='highlight-ipynb')\n",
      "    return _pygment_highlight(source, formatter, language)\n",
      "        \n",
      "c = Config({'CSSHtmlHeaderTransformer':\n",
      "                    {'enabled':False, 'highlight_class':'highlight-ipynb'}})\n",
      "\n",
      "exportHtml = HTMLExporter( config=c , filters={'highlight2html': my_highlight} )\n",
      "(body,resources) = exportHtml.from_notebook_node(jake_notebook)"
     ],
     "language": "python",
     "metadata": {},
     "outputs": [],
     "prompt_number": 21
    },
    {
     "cell_type": "code",
     "collapsed": false,
     "input": [
      "i = body.index('highlight-ipynb')\n",
      "body[i-12:i+50]"
     ],
     "language": "python",
     "metadata": {},
     "outputs": [
      {
       "metadata": {},
       "output_type": "pyout",
       "prompt_number": 22,
       "text": [
        "u'<div class=\"highlight-ipynb\"><pre><span class=\"kn\">from</span>'"
       ]
      }
     ],
     "prompt_number": 22
    },
    {
     "cell_type": "heading",
     "level": 3,
     "metadata": {},
     "source": [
      "Programatically make templates"
     ]
    },
    {
     "cell_type": "code",
     "collapsed": false,
     "input": [
      "from jinja2 import DictLoader\n",
      "\n",
      "dl = DictLoader({'html_full.tpl': \n",
      "\"\"\"\n",
      "{%- extends 'html_basic.tpl' -%} \n",
      "\n",
      "{% block footer %}\n",
      "FOOOOOOOOTEEEEER\n",
      "{% endblock footer %}\n",
      "\"\"\"})\n",
      "\n",
      "\n",
      "exportHtml = HTMLExporter( config=None , filters={'highlight': my_highlight}, extra_loaders=[dl] )\n",
      "(body,resources) = exportHtml.from_notebook_node(jake_notebook)\n",
      "for l in body.split('\\n')[-4:]:\n",
      "    print l"
     ],
     "language": "python",
     "metadata": {},
     "outputs": [
      {
       "output_type": "stream",
       "stream": "stdout",
       "text": [
        "<p>This post was written entirely in an IPython Notebook: the notebook file is available for download <a href=\"http://jakevdp.github.com/downloads/notebooks/XKCD_plots.ipynb\">here</a>. For more information on blogging with notebooks in octopress, see my <a href=\"http://jakevdp.github.com/blog/2012/10/04/blogging-with-ipython/\">previous post</a> on the subject.</p>\n",
        "</div>\n",
        "FOOOOOOOOTEEEEER\n",
        "\n"
       ]
      }
     ],
     "prompt_number": 23
    },
    {
     "cell_type": "heading",
     "level": 3,
     "metadata": {},
     "source": [
      "Real World Use"
     ]
    },
    {
     "cell_type": "markdown",
     "metadata": {},
     "source": [
      "@jakevdp use Pelican and IPython Notebook to blog. Pelican [Will use](https://github.com/getpelican/pelican-plugins/pull/21) nbconvert programatically to generate blog post. Have a look a [Pythonic Preambulations](http://jakevdp.github.io/) for Jake blog post."
     ]
    },
    {
     "cell_type": "markdown",
     "metadata": {},
     "source": [
      "@damianavila Wrote a Nicholas Plugin to [Write blog post as Notebook](http://www.damian.oquanta.info/posts/one-line-deployment-of-your-site-to-gh-pages.html) and is developping a js-extension to publish notebooks in one click from the web app."
     ]
    },
    {
     "cell_type": "markdown",
     "metadata": {},
     "source": [
      "<center>\n",
      "<blockquote class=\"twitter-tweet\"><p>As <a href=\"https://twitter.com/Mbussonn\">@Mbussonn</a> requested... easieeeeer! Deploy your Nikola site with just a click in the IPython notebook! <a href=\"http://t.co/860sJunZvj\">http://t.co/860sJunZvj</a> cc <a href=\"https://twitter.com/ralsina\">@ralsina</a></p>&mdash; Dami\u00e1n Avila (@damian_avila) <a href=\"https://twitter.com/damian_avila/statuses/370306057828335616\">August 21, 2013</a></blockquote>\n",
      "</center>"
     ]
    },
    {
     "cell_type": "markdown",
     "metadata": {},
     "source": [
      "And finaly,  what you just did, is replicate what [nbviewer](http://nbviewer.ipython.org) does. WHich to fetch a notebook from url, convert it and send in back to you as a static html."
     ]
    },
    {
     "cell_type": "heading",
     "level": 5,
     "metadata": {},
     "source": [
      "A few gotchas"
     ]
    },
    {
     "cell_type": "markdown",
     "metadata": {},
     "source": [
      "Jinja blocks use `{% %}`by default which does not play nicely with $\\LaTeX$, hence thoses are replaced by `((* *))` in latex templates."
     ]
    },
    {
     "cell_type": "code",
     "collapsed": false,
     "input": [],
     "language": "python",
     "metadata": {},
     "outputs": []
    }
   ],
   "metadata": {}
  }
 ]
}