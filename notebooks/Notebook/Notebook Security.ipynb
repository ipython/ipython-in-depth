{
 "metadata": {
  "name": "",
  "signature": "sha256:0abf067a20ebda26a671db997ac954770350d292dff7b7d6a4ace8808f70aca1"
 },
 "nbformat": 3,
 "nbformat_minor": 0,
 "worksheets": []
}