{
 "metadata": {
  "name": "",
  "signature": "sha256:a2e98eca38ca95f2ed1113513195a7cf9738781e5c499ff672f29484c6fe9a5b"
 },
 "nbformat": 3,
 "nbformat_minor": 0,
 "worksheets": [
  {
   "cells": [
    {
     "cell_type": "heading",
     "level": 1,
     "metadata": {},
     "source": [
      "IPython Display System and Interactive Widgets"
     ]
    },
    {
     "cell_type": "heading",
     "level": 2,
     "metadata": {},
     "source": [
      "PyData 2014 tutorial"
     ]
    },
    {
     "cell_type": "markdown",
     "metadata": {},
     "source": [
      "* Brian Granger (@ellisonbg)\n",
      "* Jonathan Frederic (@jdfreder on GH, @goosejon on Twitter)"
     ]
    },
    {
     "cell_type": "heading",
     "level": 2,
     "metadata": {},
     "source": [
      "Installation"
     ]
    },
    {
     "cell_type": "markdown",
     "metadata": {},
     "source": [
      "* http://github.com/ipython/ipython-in-depth\n",
      "* A quick [installation check](http://ipython.org/install.html)"
     ]
    },
    {
     "cell_type": "heading",
     "level": 2,
     "metadata": {},
     "source": [
      "Introduction"
     ]
    },
    {
     "cell_type": "markdown",
     "metadata": {},
     "source": [
      "* [What is the IPython Notebook?](Notebook/What is the IPython Notebook.ipynb)\n",
      "* [Notebook Basics](Notebook/Notebook Basics.ipynb)\n",
      "* [Notebook Exercises](Notebook/Notebook Exercises.ipynb)"
     ]
    },
    {
     "cell_type": "heading",
     "level": 2,
     "metadata": {},
     "source": [
      "Display of rich output formats"
     ]
    },
    {
     "cell_type": "markdown",
     "metadata": {},
     "source": [
      "* [Rich Output](IPython Kernel/Rich Output.ipynb)\n",
      "* [Rich Output Exercises](IPython Kernel/Rich Output Exercises.ipynb)\n",
      "* [Custom Display Logic](IPython Kernel/Custom Display Logic.ipynb)\n",
      "* [Custom Display Logic Exercises](IPython Kernel/Custom Display Logic Exercises.ipynb)"
     ]
    },
    {
     "cell_type": "heading",
     "level": 2,
     "metadata": {},
     "source": [
      "Interactive Widgets"
     ]
    },
    {
     "cell_type": "markdown",
     "metadata": {},
     "source": [
      "* [Using Interact](Interactive Widgets/Using Interact.ipynb)\n",
      "* [Interact Exercises](Interactive Widgets/Interact Exercises.ipynb)\n",
      "* [Introduction to Widgets](Interactive Widgets/Widget Basics.ipynb)\n",
      "* [Quick list of Widgets](Interactive Widgets/Widget List.ipynb)\n",
      "* [Widget Events](Interactive Widgets/Widget Events.ipynb)\n",
      "* [Widget Styling](Interactive Widgets/Widget Styling.ipynb)\n",
      "* [Custom Widget: Hello World](Interactive Widgets/Custom Widget - Hello World.ipynb)\n",
      "* [Widget Exercises](Interactive Widgets/Widget Exercises.ipynb)"
     ]
    }
   ],
   "metadata": {}
  }
 ]
}