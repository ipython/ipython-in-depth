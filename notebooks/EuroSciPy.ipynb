{
 "metadata": {
  "name": ""
 },
 "nbformat": 3,
 "nbformat_minor": 0,
 "worksheets": [
  {
   "cells": [
    {
     "cell_type": "heading",
     "level": 1,
     "metadata": {},
     "source": [
      "IPython in depth tutorial"
     ]
    },
    {
     "cell_type": "heading",
     "level": 1,
     "metadata": {
      "slideshow": {
       "slide_type": "slide"
      }
     },
     "source": [
      "IPython in depth tutorial"
     ]
    },
    {
     "cell_type": "heading",
     "level": 2,
     "metadata": {},
     "source": [
      "EuroSciPy 2013"
     ]
    },
    {
     "cell_type": "markdown",
     "metadata": {},
     "source": [
      "  - Matthias Bussonnier : <i class=\"icon-twitter\"></i> @Mbussonn, <i class=\"icon-github\"></i>: @Carreau\n",
      "\n",
      "  - Benjamin Ragan Kelley : <i class=\"icon-github\"></i>,<i class=\"icon-twitter\"></i> @MinRK"
     ]
    },
    {
     "cell_type": "markdown",
     "metadata": {},
     "source": [
      "This tutorial material : https://github.com/ipython/ipython-in-depth/ <i class=\"icon-tags\"></i> EuroSciPy-2013, IPython 1.0+"
     ]
    },
    {
     "cell_type": "markdown",
     "metadata": {},
     "source": [
      "Please visit http://ipython.org , help chat room link on the right https://www.hipchat.com/ghSp7E1uY"
     ]
    },
    {
     "cell_type": "markdown",
     "metadata": {
      "slideshow": {
       "slide_type": "slide"
      }
     },
     "source": [
      "###Some other tutorial help/resources :\n",
      "\n",
      "   - Search for \"IPython in depth\" tutorial on youtube and pyvideo, much longer, much deeper\n",
      "   - ask help on Stackoverflow Tags it ipython/ipython-notebook\n",
      "   - Dev and User Mailing list both hosted as <mailto:ipython-dev@scipy.org>\n",
      "   - file a github issue on <http://github.com/ipython/ipython>\n",
      "   - Twitter\n",
      "   - Reddit\n",
      "   - Notebook Gallery\n",
      "     - full books\n",
      "   - ..."
     ]
    },
    {
     "cell_type": "heading",
     "level": 2,
     "metadata": {
      "slideshow": {
       "slide_type": "slide"
      }
     },
     "source": [
      "The Team"
     ]
    },
    {
     "cell_type": "markdown",
     "metadata": {},
     "source": [
      " - **Fernando P\u00e9rez**\n",
      " - **Brian Granger**\n",
      " - **Min Raggan Kelley**\n",
      " - **Thomas Kluyver**\n",
      " - **Matthias Bussonnier**\n",
      " - **Paul Ivanov**\n",
      " - **Bradley M. Froehle**\n",
      " - **Jonathan Frederic**\n",
      " - ...\n",
      " - Hundreds of others authors"
     ]
    },
    {
     "cell_type": "heading",
     "level": 2,
     "metadata": {
      "slideshow": {
       "slide_type": "slide"
      }
     },
     "source": [
      "IPython components"
     ]
    },
    {
     "cell_type": "markdown",
     "metadata": {},
     "source": [
      "  - The classic command line shell\n",
      "  - the qtconsole\n",
      "  - the ZMQ console\n",
      "  - the notebook\n",
      "  - Parallel machinery\n",
      "  \n",
      "also \n",
      "\n",
      "  - nbconvert\n",
      "  - [nbviewer](http://nbviewer.ipython.org/)"
     ]
    },
    {
     "cell_type": "heading",
     "level": 2,
     "metadata": {
      "slideshow": {
       "slide_type": "slide"
      }
     },
     "source": [
      "Starting the notebook"
     ]
    },
    {
     "cell_type": "markdown",
     "metadata": {},
     "source": [
      "```bash\n",
      "$ cd notebooks\n",
      "$ ipython notebook\n",
      "```"
     ]
    },
    {
     "cell_type": "markdown",
     "metadata": {
      "slideshow": {
       "slide_type": "fragment"
      }
     },
     "source": [
      "```bash\n",
      "[NotebookApp] Using existing profile dir: u'~/.ipython/profile_default'\n",
      "[NotebookApp] Using MathJax from CDN: https://c328740.ssl.cf1.rackcdn.com/mathjax/latest/MathJax.js\n",
      "[NotebookApp] Serving notebooks from local directory: ~/ipython-in-depth/notebooks\n",
      "[NotebookApp] The IPython Notebook is running at: https://[all ip addresses on your system]:8888/\n",
      "[NotebookApp] Use Control-C to stop this server and shut down all kernels (twice to skip confirmation).\n",
      "[NotebookApp] Connecting to: tcp://127.0.0.1:53383\n",
      "[NotebookApp] Kernel started: f63842e3-7ccb-4e59-a44d-2c1bf01e8e91\n",
      "[NotebookApp] Connecting to: tcp://127.0.0.1:53380\n",
      "[NotebookApp] Connecting to: tcp://127.0.0.1:53382\n",
      "[NotebookApp] Connecting to: tcp://127.0.0.1:53381\n",
      "```"
     ]
    },
    {
     "cell_type": "markdown",
     "metadata": {
      "slideshow": {
       "slide_type": "slide"
      }
     },
     "source": [
      "Starting with different profiles :\n",
      "\n",
      "```bash\n",
      "$ ipython notebook --profile=<profile name>\n",
      "```\n",
      "\n",
      "```bash\n",
      "$ ipython notebook --NotebookApp.profile_location=<profile dir>\n",
      "```"
     ]
    },
    {
     "cell_type": "markdown",
     "metadata": {},
     "source": [
      "Let's start with the following notebook\n",
      "\n",
      "[IPython - beyond plain Python](/IPython%20-%20beyond%20plain%20Python.ipynb)"
     ]
    },
    {
     "cell_type": "code",
     "collapsed": false,
     "input": [
      "import numpy"
     ],
     "language": "python",
     "metadata": {},
     "outputs": [],
     "prompt_number": 21
    },
    {
     "cell_type": "heading",
     "level": 3,
     "metadata": {
      "slideshow": {
       "slide_type": "slide"
      }
     },
     "source": [
      "Object introspection"
     ]
    },
    {
     "cell_type": "markdown",
     "metadata": {},
     "source": [
      "You can use tab to get help on how to use completion. Press tab in the following cell after placing the cursor and press the `tab` key. \n",
      "Each press will extend the help"
     ]
    },
    {
     "cell_type": "code",
     "collapsed": false,
     "input": [
      "%matploltib inline"
     ],
     "language": "python",
     "metadata": {},
     "outputs": []
    },
    {
     "cell_type": "code",
     "collapsed": false,
     "input": [
      "matplotlib.RcParams"
     ],
     "language": "python",
     "metadata": {},
     "outputs": [
      {
       "metadata": {},
       "output_type": "pyout",
       "prompt_number": 12,
       "text": [
        "<module 'numpy.ma' from '/Users/matthiasbussonnier/numpy/numpy/ma/__init__.pyc'>"
       ]
      }
     ],
     "prompt_number": 12
    },
    {
     "cell_type": "code",
     "collapsed": false,
     "input": [
      "numpy.histogram("
     ],
     "language": "python",
     "metadata": {},
     "outputs": []
    },
    {
     "cell_type": "heading",
     "level": 2,
     "metadata": {
      "slideshow": {
       "slide_type": "slide"
      }
     },
     "source": [
      "Notebook Arch"
     ]
    },
    {
     "cell_type": "markdown",
     "metadata": {},
     "source": [
      "<center>\n",
      "![img](files/IPython%20arch.png)\n",
      "</center>"
     ]
    },
    {
     "cell_type": "markdown",
     "metadata": {
      "slideshow": {
       "slide_type": "notes"
      }
     },
     "source": [
      "You don't necesarly need to understand that when working to the notebook but it could be good to keep this in mind. It allows to understand some edge cases when references to files are not working as expected in markdown cell, or when using `Images(url='')`\n",
      "\n",
      "The technical detaiel might not be that important, but to keep things clear we can assume that `kernel`, `server` and `client` are on 3 different machines. \n",
      "The protocol is abstract enough so that kenerl is not assumed to by Python (Julia, Rubym Javascript...), client is not assumed to be a browser (can be Emacs for example).\n",
      "\n",
      "Kernel can be attached to **many** client with different display capability. You cannot know that you are running \"in a notebook\", it does not makes sens."
     ]
    },
    {
     "cell_type": "heading",
     "level": 3,
     "metadata": {},
     "source": [
      "advices on nbviewer"
     ]
    },
    {
     "cell_type": "markdown",
     "metadata": {},
     "source": [
      "emphasis of %matplotlib"
     ]
    },
    {
     "cell_type": "code",
     "collapsed": false,
     "input": [],
     "language": "python",
     "metadata": {},
     "outputs": []
    }
   ],
   "metadata": {}
  }
 ]
}