{
 "metadata": {
  "name": "",
  "signature": "sha256:16342d09ee3015deee826a4851b456f5e94c2cdea570f33ad9ccc98f4e4143b8"
 },
 "nbformat": 3,
 "nbformat_minor": 0,
 "worksheets": [
  {
   "cells": [
    {
     "cell_type": "heading",
     "level": 2,
     "metadata": {},
     "source": [
      "Exercise"
     ]
    },
    {
     "cell_type": "markdown",
     "metadata": {},
     "source": [
      "1. Start a new job that calls `sleepfunc` with a 5-second wait\n",
      "2. Print a short message that indicates you are waiting (note: you'll need to flush stdout to see that print output appear).\n",
      "3. Wait on the job and then print its result."
     ]
    }
   ],
   "metadata": {}
  }
 ]
}