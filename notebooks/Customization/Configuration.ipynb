{
 "metadata": {
  "name": ""
 },
 "nbformat": 3,
 "nbformat_minor": 0,
 "worksheets": [
  {
   "cells": [
    {
     "cell_type": "heading",
     "level": 1,
     "metadata": {},
     "source": [
      "Configuring IPython"
     ]
    },
    {
     "cell_type": "heading",
     "level": 2,
     "metadata": {},
     "source": [
      "Finding configuration options"
     ]
    },
    {
     "cell_type": "markdown",
     "metadata": {},
     "source": [
      "IPython has many configurable attributes. These can be viewed using the `-h` flag to the command line applications:"
     ]
    },
    {
     "cell_type": "code",
     "collapsed": false,
     "input": [
      "!ipython -h"
     ],
     "language": "python",
     "metadata": {},
     "outputs": [
      {
       "output_type": "stream",
       "stream": "stdout",
       "text": [
        "=========\r\n",
        " IPython\r\n",
        "=========\r\n",
        "\r\n",
        "Tools for Interactive Computing in Python\r\n",
        "=========================================\r\n",
        "\r\n",
        "    A Python shell with automatic history (input and output), dynamic object\r\n",
        "    introspection, easier configuration, command completion, access to the\r\n",
        "    system shell and more.  IPython can also be embedded in running programs.\r\n",
        "\r\n",
        "Usage\r\n",
        "\r\n",
        "    ipython [subcommand] [options] [-c cmd | -m mod | file] [--] [arg] ...\r\n",
        "\r\n",
        "    If invoked with no options, it executes the file and exits, passing the\r\n",
        "    remaining arguments to the script, just as if you had specified the same\r\n",
        "    command with python. You may need to specify `--` before args to be passed\r\n",
        "    to the script, to prevent IPython from attempting to parse them. If you\r\n",
        "    specify the option `-i` before the filename, it will enter an interactive\r\n",
        "    IPython session after running the script, rather than exiting. Files ending\r\n",
        "    in .py will be treated as normal Python, but files ending in .ipy can\r\n",
        "    contain special IPython syntax (magic commands, shell expansions, etc.).\r\n",
        "\r\n",
        "    Almost all configuration in IPython is available via the command-line. Do\r\n",
        "    `ipython --help-all` to see all available options.  For persistent\r\n",
        "    configuration, look into your `ipython_config.py` configuration file for\r\n",
        "    details.\r\n",
        "\r\n",
        "    This file is typically installed in the `IPYTHONDIR` directory, and there\r\n",
        "    is a separate configuration directory for each profile. The default profile\r\n",
        "    directory will be located in $IPYTHONDIR/profile_default. For Linux users,\r\n",
        "    IPYTHONDIR defaults to `$HOME/.config/ipython`, and for other Unix systems\r\n",
        "    to `$HOME/.ipython`.  For Windows users, $HOME resolves to C:\\Documents\r\n",
        "    and Settings\\YourUserName in most instances.\r\n",
        "\r\n",
        "    To initialize a profile with the default configuration file, do::\r\n",
        "\r\n",
        "      $> ipython profile create\r\n",
        "\r\n",
        "    and start editing `IPYTHONDIR/profile_default/ipython_config.py`\r\n",
        "\r\n",
        "    In IPython's documentation, we will refer to this directory as\r\n",
        "    `IPYTHONDIR`, you can change its default location by creating an\r\n",
        "    environment variable with this name and setting it to the desired path.\r\n",
        "\r\n",
        "    For more information, see the manual available in HTML and PDF in your\r\n",
        "    installation, or online at http://ipython.org/documentation.html.\r\n",
        "\r\n",
        "Subcommands\r\n",
        "-----------\r\n",
        "\r\n",
        "Subcommands are launched as `ipython cmd [args]`. For information on using\r\n",
        "subcommand 'cmd', do: `ipython cmd -h`.\r\n",
        "\r\n",
        "locate\r\n",
        "    print the path to the IPython dir\r\n",
        "profile\r\n",
        "    Create and manage IPython profiles.\r\n",
        "console\r\n",
        "    Launch the IPython terminal-based Console.\r\n",
        "kernel\r\n",
        "    Start a kernel without an attached frontend.\r\n",
        "notebook\r\n",
        "    Launch the IPython HTML Notebook Server.\r\n",
        "nbconvert\r\n",
        "    Convert notebooks to/from other formats.\r\n",
        "qtconsole\r\n",
        "    Launch the IPython Qt Console.\r\n",
        "history\r\n",
        "    Manage the IPython history database.\r\n",
        "\r\n",
        "Options\r\n",
        "-------\r\n",
        "\r\n",
        "Arguments that take values are actually convenience aliases to full\r\n",
        "Configurables, whose aliases are listed on the help line. For more information\r\n",
        "on full configurables, see '--help-all'.\r\n",
        "\r\n",
        "--no-autoindent\r\n",
        "    Turn off autoindenting.\r\n",
        "--autoedit-syntax\r\n",
        "    Turn on auto editing of files with syntax errors.\r\n",
        "--deep-reload\r\n",
        "    Enable deep (recursive) reloading by default. IPython can use the\r\n",
        "    deep_reload module which reloads changes in modules recursively (it\r\n",
        "    replaces the reload() function, so you don't need to change anything to\r\n",
        "    use it). deep_reload() forces a full reload of modules whose code may\r\n",
        "    have changed, which the default reload() function does not.  When\r\n",
        "    deep_reload is off, IPython will use the normal reload(), but\r\n",
        "    deep_reload will still be available as dreload(). This feature is off\r\n",
        "    by default [which means that you have both normal reload() and\r\n",
        "    dreload()].\r\n",
        "--confirm-exit\r\n",
        "    Set to confirm when you try to exit IPython with an EOF (Control-D\r\n",
        "    in Unix, Control-Z/Enter in Windows). By typing 'exit' or 'quit',\r\n",
        "    you can force a direct exit without any confirmation.\r\n",
        "--pylab\r\n",
        "    Pre-load matplotlib and numpy for interactive use with\r\n",
        "    the default matplotlib backend.\r\n",
        "--matplotlib\r\n",
        "    Configure matplotlib for interactive use with\r\n",
        "    the default matplotlib backend.\r\n",
        "--term-title\r\n",
        "    Enable auto setting the terminal title.\r\n",
        "--classic\r\n",
        "    Gives IPython a similar feel to the classic Python prompt.\r\n",
        "--autoindent\r\n",
        "    Turn on autoindenting.\r\n",
        "--no-automagic\r\n",
        "    Turn off the auto calling of magic commands.\r\n",
        "--banner\r\n",
        "    Display a banner upon starting IPython.\r\n",
        "--automagic\r\n",
        "    Turn on the auto calling of magic commands. Type %%magic at the\r\n",
        "    IPython  prompt  for  more information.\r\n",
        "--no-deep-reload\r\n",
        "    Disable deep (recursive) reloading by default.\r\n",
        "--no-term-title\r\n",
        "    Disable auto setting the terminal title.\r\n",
        "--nosep\r\n",
        "    Eliminate all spacing between prompts.\r\n",
        "-i\r\n",
        "    If running code from the command line, become interactive afterwards.\r\n",
        "    Note: can also be given simply as '-i.'\r\n",
        "--debug\r\n",
        "    set log level to logging.DEBUG (maximize logging output)\r\n",
        "--pprint\r\n",
        "    Enable auto pretty printing of results.\r\n",
        "--no-autoedit-syntax\r\n",
        "    Turn off auto editing of files with syntax errors.\r\n",
        "--quiet\r\n",
        "    set log level to logging.CRITICAL (minimize logging output)\r\n",
        "--no-color-info\r\n",
        "    Disable using colors for info related things.\r\n",
        "--color-info\r\n",
        "    IPython can display information about objects via a set of func-\r\n",
        "    tions, and optionally can use colors for this, syntax highlighting\r\n",
        "    source code and various other elements.  However, because this\r\n",
        "    information is passed through a pager (like 'less') and many pagers get\r\n",
        "    confused with color codes, this option is off by default.  You can test\r\n",
        "    it and turn it on permanently in your ipython_config.py file if it\r\n",
        "    works for you.  Test it and turn it on permanently if it works with\r\n",
        "    your system.  The magic function %%color_info allows you to toggle this\r\n",
        "    interactively for testing.\r\n",
        "--init\r\n",
        "    Initialize profile with default config files.  This is equivalent\r\n",
        "    to running `ipython profile create <profile>` prior to startup.\r\n",
        "--no-pdb\r\n",
        "    Disable auto calling the pdb debugger after every exception.\r\n",
        "--quick\r\n",
        "    Enable quick startup with no config files.\r\n",
        "--no-confirm-exit\r\n",
        "    Don't prompt the user when exiting.\r\n",
        "--pydb\r\n",
        "    Use the third party 'pydb' package as debugger, instead of pdb.\r\n",
        "    Requires that pydb is installed.\r\n",
        "--pdb\r\n",
        "    Enable auto calling the pdb debugger after every exception.\r\n",
        "--no-pprint\r\n",
        "    Disable auto pretty printing of results.\r\n",
        "--no-banner\r\n",
        "    Don't display a banner upon starting IPython.\r\n",
        "--profile=<Unicode> (BaseIPythonApplication.profile)\r\n",
        "    Default: u'default'\r\n",
        "    The IPython profile to use.\r\n",
        "--pylab=<CaselessStrEnum> (InteractiveShellApp.pylab)\r\n",
        "    Default: None\r\n",
        "    Choices: ['auto', 'gtk', 'inline', 'osx', 'qt', 'qt4', 'tk', 'wx']\r\n",
        "    Pre-load matplotlib and numpy for interactive use, selecting a particular\r\n",
        "    matplotlib backend and loop integration.\r\n",
        "--matplotlib=<CaselessStrEnum> (InteractiveShellApp.matplotlib)\r\n",
        "    Default: None\r\n",
        "    Choices: ['auto', 'gtk', 'inline', 'osx', 'qt', 'qt4', 'tk', 'wx']\r\n",
        "    Configure matplotlib for interactive use with the default matplotlib\r\n",
        "    backend.\r\n",
        "--colors=<CaselessStrEnum> (InteractiveShell.colors)\r\n",
        "    Default: 'LightBG'\r\n",
        "    Choices: ('NoColor', 'LightBG', 'Linux')\r\n",
        "    Set the color scheme (NoColor, Linux, or LightBG).\r\n",
        "--cache-size=<Integer> (InteractiveShell.cache_size)\r\n",
        "    Default: 1000\r\n",
        "    Set the size of the output cache.  The default is 1000, you can change it\r\n",
        "    permanently in your config file.  Setting it to 0 completely disables the\r\n",
        "    caching system, and the minimum value accepted is 20 (if you provide a value\r\n",
        "    less than 20, it is reset to 0 and a warning is issued).  This limit is\r\n",
        "    defined because otherwise you'll spend more time re-flushing a too small\r\n",
        "    cache than working\r\n",
        "--logfile=<Unicode> (InteractiveShell.logfile)\r\n",
        "    Default: ''\r\n",
        "    The name of the logfile to use.\r\n",
        "--profile-dir=<Unicode> (ProfileDir.location)\r\n",
        "    Default: u''\r\n",
        "    Set the profile location directly. This overrides the logic used by the\r\n",
        "    `profile` option.\r\n",
        "-c <Unicode> (InteractiveShellApp.code_to_run)\r\n",
        "    Default: ''\r\n",
        "    Execute the given command string.\r\n",
        "--autocall=<Enum> (InteractiveShell.autocall)\r\n",
        "    Default: 0\r\n",
        "    Choices: (0, 1, 2)\r\n",
        "    Make IPython automatically call any callable object even if you didn't type\r\n",
        "    explicit parentheses. For example, 'str 43' becomes 'str(43)' automatically.\r\n",
        "    The value can be '0' to disable the feature, '1' for 'smart' autocall, where\r\n",
        "    it is not applied if there are no more arguments on the line, and '2' for\r\n",
        "    'full' autocall, where all callable objects are automatically called (even\r\n",
        "    if no arguments are present).\r\n",
        "--ipython-dir=<Unicode> (BaseIPythonApplication.ipython_dir)\r\n",
        "    Default: u'/Users/minrk/.ipython'\r\n",
        "    The name of the IPython directory. This directory is used for logging\r\n",
        "    configuration (through profiles), history storage, etc. The default is\r\n",
        "    usually $HOME/.ipython. This options can also be specified through the\r\n",
        "    environment variable IPYTHONDIR.\r\n",
        "--gui=<CaselessStrEnum> (InteractiveShellApp.gui)\r\n",
        "    Default: None\r\n",
        "    Choices: ('qt', 'wx', 'gtk', 'glut', 'pyglet', 'osx')\r\n",
        "    Enable GUI event loop integration ('qt', 'wx', 'gtk', 'glut', 'pyglet',\r\n",
        "    'osx').\r\n",
        "--logappend=<Unicode> (InteractiveShell.logappend)\r\n",
        "    Default: ''\r\n",
        "    Start logging to the given file in append mode.\r\n",
        "-m <Unicode> (InteractiveShellApp.module_to_run)\r\n",
        "    Default: ''\r\n",
        "    Run the module as a script.\r\n",
        "--log-level=<Enum> (Application.log_level)\r\n",
        "    Default: 30\r\n",
        "    Choices: (0, 10, 20, 30, 40, 50, 'DEBUG', 'INFO', 'WARN', 'ERROR', 'CRITICAL')\r\n",
        "    Set the log level by value or name.\r\n",
        "--ext=<Unicode> (InteractiveShellApp.extra_extension)\r\n",
        "    Default: ''\r\n",
        "    dotted module name of an IPython extension to load.\r\n",
        "--config=<Unicode> (BaseIPythonApplication.extra_config_file)\r\n",
        "    Default: u''\r\n",
        "    Path to an extra config file to load.\r\n",
        "    If specified, load this config file in addition to any other IPython config.\r\n",
        "\r\n",
        "To see all available configurables, use `--help-all`\r\n",
        "\r\n",
        "Examples\r\n",
        "--------\r\n",
        "\r\n",
        "    ipython --matplotlib       # enable matplotlib integration\r\n",
        "    ipython --matplotlib=qt    # enable matplotlib integration with qt4 backend\r\n",
        "    \r\n",
        "    ipython --log-level=DEBUG  # set logging to DEBUG\r\n",
        "    ipython --profile=foo      # start with profile foo\r\n",
        "    \r\n",
        "    ipython qtconsole          # start the qtconsole GUI application\r\n",
        "    ipython help qtconsole     # show the help for the qtconsole subcmd\r\n",
        "    \r\n",
        "    ipython console            # start the terminal-based console application\r\n",
        "    ipython help console       # show the help for the console subcmd\r\n",
        "    \r\n",
        "    ipython notebook           # start the IPython notebook\r\n",
        "    ipython help notebook      # show the help for the notebook subcmd\r\n",
        "    \r\n",
        "    ipython profile create foo # create profile foo w/ default config files\r\n",
        "    ipython help profile       # show the help for the profile subcmd\r\n",
        "    \r\n",
        "    ipython locate             # print the path to the IPython directory\r\n",
        "    ipython locate profile foo # print the path to the directory for profile `foo`\r",
        "\r\n",
        "    \r\n",
        "    ipython nbconvert           # convert notebooks to/from other formats\r\n",
        "\r\n"
       ]
      }
     ],
     "prompt_number": 1
    },
    {
     "cell_type": "markdown",
     "metadata": {},
     "source": [
      "This is an important trick for finding out configuration info:\n",
      "    \n",
      "    $> ipython [subcommand] --help-all | grep [-C context] PATTERN\n",
      "\n",
      "`--help-all` exposes everything configurable in IPython,\n",
      "there is a good chance you will find what you are looking for."
     ]
    },
    {
     "cell_type": "markdown",
     "metadata": {},
     "source": [
      "A common configuration question is:\n",
      "\n",
      "> how do I disable the \"Do you really want to exit\" message when quitting with `Ctrl-d`?\n",
      "\n",
      "Well, logically this has to do with `exit`, so let's look for it:"
     ]
    },
    {
     "cell_type": "code",
     "collapsed": false,
     "input": [
      "!ipython --help-all | GREP_COLOR='1;31;46' grep --color exit"
     ],
     "language": "python",
     "metadata": {},
     "outputs": [
      {
       "output_type": "stream",
       "stream": "stdout",
       "text": [
        "    If invoked with no options, it executes the file and \u001b[1;31;46m\u001b[Kexit\u001b[m\u001b[Ks, passing the\r\n",
        "    IPython session after running the script, rather than \u001b[1;31;46m\u001b[Kexit\u001b[m\u001b[King. Files ending\r\n",
        "--confirm-\u001b[1;31;46m\u001b[Kexit\u001b[m\u001b[K\r\n",
        "    Set to confirm when you try to \u001b[1;31;46m\u001b[Kexit\u001b[m\u001b[K IPython with an EOF (Control-D\r\n",
        "    in Unix, Control-Z/Enter in Windows). By typing '\u001b[1;31;46m\u001b[Kexit\u001b[m\u001b[K' or 'quit',\r\n",
        "    you can force a direct \u001b[1;31;46m\u001b[Kexit\u001b[m\u001b[K without any confirmation.\r\n",
        "--no-confirm-\u001b[1;31;46m\u001b[Kexit\u001b[m\u001b[K\r\n",
        "    Don't prompt the user when \u001b[1;31;46m\u001b[Kexit\u001b[m\u001b[King.\r\n",
        "--TerminalInteractiveShell.confirm_\u001b[1;31;46m\u001b[Kexit\u001b[m\u001b[K=<CBool>\r\n",
        "    Set to confirm when you try to \u001b[1;31;46m\u001b[Kexit\u001b[m\u001b[K IPython with an EOF (Control-D in Unix,\r\n",
        "    Control-Z/Enter in Windows). By typing '\u001b[1;31;46m\u001b[Kexit\u001b[m\u001b[K' or 'quit', you can force a\r\n",
        "    direct \u001b[1;31;46m\u001b[Kexit\u001b[m\u001b[K without any confirmation.\r\n"
       ]
      }
     ],
     "prompt_number": 2
    },
    {
     "cell_type": "markdown",
     "metadata": {},
     "source": [
      "Which shows me that I can disable the confirmation for a single IPython session with\n",
      "\n",
      "    $> ipython --no-confirm-exit\n",
      "    \n",
      "or I can set the `TerminalInteractiveShell.confirm_exit=False` in a config file,\n",
      "to have it be the default behavior."
     ]
    },
    {
     "cell_type": "heading",
     "level": 2,
     "metadata": {},
     "source": [
      "Configuration principles"
     ]
    },
    {
     "cell_type": "markdown",
     "metadata": {},
     "source": [
      "Here are the design principles of the IPython configuration system: \n",
      "\n",
      "* Configuration is always done using class attributes\n",
      "* Classes that have configurable attributes are subclasses of `Configurable`\n",
      "* Attributes that are configurable are typed traitlets objects (`Bool`, `Unicode`, etc.) that have `config=True`\n",
      "* In config files, configurable attributes can be set using the format `Class.attr_name=the_value`\n",
      "* At the command line, configurable attributes can be set using the syntax `--Class.attr_name=the_value`\n",
      "* At the command line, some attributes have shorthands of the form `--attr-name=value`\n",
      "* Values set at the command line have higher priority than those set in config files"
     ]
    },
    {
     "cell_type": "heading",
     "level": 2,
     "metadata": {},
     "source": [
      "The IPython Profile"
     ]
    },
    {
     "cell_type": "markdown",
     "metadata": {},
     "source": [
      "IPython has a notion of 'profiles' - these are directories that live in your IPYTHONDIR,\n",
      "which contain configuration and runtime information.\n",
      "\n",
      "Let's create the default profile"
     ]
    },
    {
     "cell_type": "code",
     "collapsed": false,
     "input": [
      "!ipython profile create newprofile"
     ],
     "language": "python",
     "metadata": {},
     "outputs": [
      {
       "output_type": "stream",
       "stream": "stdout",
       "text": [
        "[ProfileCreate] WARNING | Generating default config file: u'/Users/minrk/.ipython/profile_newprofile/ipython_config.py'\r\n"
       ]
      },
      {
       "output_type": "stream",
       "stream": "stdout",
       "text": [
        "[ProfileCreate] WARNING | Generating default config file: u'/Users/minrk/.ipython/profile_newprofile/ipython_qtconsole_config.py'\r\n",
        "[ProfileCreate] WARNING | Generating default config file: u'/Users/minrk/.ipython/profile_newprofile/ipython_notebook_config.py'\r\n"
       ]
      }
     ],
     "prompt_number": 3
    },
    {
     "cell_type": "markdown",
     "metadata": {},
     "source": [
      "This creates a profile in your IPYTHONDIR (`ipython locate` is a quick way to see where your IPYTHONDIR is),\n",
      "and populates it with automatically generated default config files."
     ]
    },
    {
     "cell_type": "code",
     "collapsed": false,
     "input": [
      "!ipython locate profile default\n",
      "!ipython locate profile newprofile"
     ],
     "language": "python",
     "metadata": {},
     "outputs": [
      {
       "output_type": "stream",
       "stream": "stdout",
       "text": [
        "/Users/minrk/.ipython/profile_default\r\n"
       ]
      },
      {
       "output_type": "stream",
       "stream": "stdout",
       "text": [
        "/Users/minrk/.ipython/profile_newprofile\r\n"
       ]
      }
     ],
     "prompt_number": 4
    },
    {
     "cell_type": "markdown",
     "metadata": {},
     "source": [
      "You can skim"
     ]
    },
    {
     "cell_type": "code",
     "collapsed": false,
     "input": [
      "profile = get_ipython().profile_dir.location\n",
      "profile"
     ],
     "language": "python",
     "metadata": {},
     "outputs": [
      {
       "metadata": {},
       "output_type": "pyout",
       "prompt_number": 5,
       "text": [
        "u'/Users/minrk/Dropbox/dev/ip/pres/ipython-in-depth/profile_euroscipy'"
       ]
      }
     ],
     "prompt_number": 5
    },
    {
     "cell_type": "code",
     "collapsed": false,
     "input": [
      "ls $profile"
     ],
     "language": "python",
     "metadata": {},
     "outputs": [
      {
       "output_type": "stream",
       "stream": "stdout",
       "text": [
        "\u001b[34mdb\u001b[m\u001b[m/                          ipython_config.py            ipython_qtconsole_config.py  \u001b[34mpid\u001b[m\u001b[m/                         \u001b[34mstartup\u001b[m\u001b[m/\r\n",
        "history.sqlite               ipython_notebook_config.py   \u001b[34mlog\u001b[m\u001b[m/                         \u001b[34msecurity\u001b[m\u001b[m/                    \u001b[34mstatic\u001b[m\u001b[m/\r\n"
       ]
      }
     ],
     "prompt_number": 6
    },
    {
     "cell_type": "markdown",
     "metadata": {},
     "source": [
      "Let's peek at our config file"
     ]
    },
    {
     "cell_type": "code",
     "collapsed": false,
     "input": [
      "pycat $profile/ipython_config.py"
     ],
     "language": "python",
     "metadata": {},
     "outputs": [],
     "prompt_number": 7
    },
    {
     "cell_type": "heading",
     "level": 2,
     "metadata": {},
     "source": [
      "The %config magic"
     ]
    },
    {
     "cell_type": "markdown",
     "metadata": {},
     "source": [
      "The `%config` magic lets you do some configuration at runtime, rather than in configuration files."
     ]
    },
    {
     "cell_type": "code",
     "collapsed": false,
     "input": [
      "%matplotlib inline"
     ],
     "language": "python",
     "metadata": {},
     "outputs": [],
     "prompt_number": 8
    },
    {
     "cell_type": "markdown",
     "metadata": {},
     "source": [
      "`%config` with no arguments will show you what configurable objects exist:"
     ]
    },
    {
     "cell_type": "code",
     "collapsed": false,
     "input": [
      "%config"
     ],
     "language": "python",
     "metadata": {},
     "outputs": [
      {
       "output_type": "stream",
       "stream": "stdout",
       "text": [
        "Available objects for config:\n",
        "     ZMQInteractiveShell\n",
        "     HistoryManager\n",
        "     PrefilterManager\n",
        "     AliasManager\n",
        "     IPCompleter\n",
        "     PromptManager\n",
        "     DisplayFormatter\n",
        "     LaTeXTool\n",
        "     MagicsManager\n",
        "     IPKernelApp\n",
        "     StoreMagics\n",
        "     InlineBackend\n"
       ]
      }
     ],
     "prompt_number": 9
    },
    {
     "cell_type": "markdown",
     "metadata": {},
     "source": [
      "And `%config Class` will show you the config for that class:"
     ]
    },
    {
     "cell_type": "code",
     "collapsed": false,
     "input": [
      "%config InlineBackend"
     ],
     "language": "python",
     "metadata": {},
     "outputs": [
      {
       "output_type": "stream",
       "stream": "stdout",
       "text": [
        "InlineBackend options\n",
        "-------------------\n",
        "InlineBackend.close_figures=<Bool>\n",
        "    Current: True\n",
        "    Close all figures at the end of each cell.\n",
        "    When True, ensures that each cell starts with no active figures, but it also\n",
        "    means that one must keep track of references in order to edit or redraw\n",
        "    figures in subsequent cells. This mode is ideal for the notebook, where\n",
        "    residual plots from other cells might be surprising.\n",
        "    When False, one must call figure() to create new figures. This means that\n",
        "    gcf() and getfigs() can reference figures created in other cells, and the\n",
        "    active figure can continue to be edited with pylab/pyplot methods that\n",
        "    reference the current active figure. This mode facilitates iterative editing\n",
        "    of figures, and behaves most consistently with other matplotlib backends,\n",
        "    but figure barriers between cells must be explicit.\n",
        "InlineBackend.figure_format=<CaselessStrEnum>\n",
        "    Current: 'retina'\n",
        "    Choices: ['svg', 'png', 'retina']\n",
        "    The image format for figures with the inline backend.\n",
        "InlineBackend.rc=<Dict>\n",
        "    Current: {'font.size': 10, 'figure.figsize': (6.0, 4.0), 'figure.facecolor': 'white', 'savefig.dpi': 72, 'figure.subplot.bottom': 0.125, 'figure.edgecolor': 'white'}\n",
        "    Subset of matplotlib rcParams that should be different for the inline\n",
        "    backend.\n"
       ]
      }
     ],
     "prompt_number": 10
    },
    {
     "cell_type": "markdown",
     "metadata": {},
     "source": [
      "Most importantly, the `%config` magic can be used to change the value of a configurable attribute at runtime. Here we tell the inline matplotlib backend to use SVG instead of the default PNG"
     ]
    },
    {
     "cell_type": "code",
     "collapsed": false,
     "input": [
      "import numpy as np\n",
      "import matplotlib.pyplot as plt\n",
      "\n",
      "x = np.linspace(0,10,1000)\n",
      "y = np.sin(x)\n",
      "plt.plot(x,y)"
     ],
     "language": "python",
     "metadata": {},
     "outputs": [
      {
       "metadata": {},
       "output_type": "pyout",
       "prompt_number": 11,
       "text": [
        "[<matplotlib.lines.Line2D at 0x107a74090>]"
       ]
      },
      {
       "metadata": {
        "png": {
         "height": 257,
         "width": 383
        }
       },
       "output_type": "display_data",
       "png": "[encoded data removed]",
       "text": [
        "<matplotlib.figure.Figure at 0x107a45810>"
       ]
      }
     ],
     "prompt_number": 11
    },
    {
     "cell_type": "code",
     "collapsed": false,
     "input": [
      "%config InlineBackend.figure_format = 'svg'"
     ],
     "language": "python",
     "metadata": {},
     "outputs": [],
     "prompt_number": 12
    },
    {
     "cell_type": "code",
     "collapsed": false,
     "input": [
      "plt.plot(x,y)"
     ],
     "language": "python",
     "metadata": {},
     "outputs": [
      {
       "metadata": {},
       "output_type": "pyout",
       "prompt_number": 13,
       "text": [
        "[<matplotlib.lines.Line2D at 0x107b1d9d0>]"
       ]
      },
      {
       "metadata": {},
       "output_type": "display_data",
       "svg": [
        "<?xml version=\"1.0\" encoding=\"utf-8\" standalone=\"no\"?>\n",
        "<!DOCTYPE svg PUBLIC \"-//W3C//DTD SVG 1.1//EN\"\n",
        "  \"http://www.w3.org/Graphics/SVG/1.1/DTD/svg11.dtd\">\n",
        "<!-- Created with matplotlib (http://matplotlib.org/) -->\n",
        "<svg height=\"258pt\" version=\"1.1\" viewBox=\"0 0 383 258\" width=\"383pt\" xmlns=\"http://www.w3.org/2000/svg\" xmlns:xlink=\"http://www.w3.org/1999/xlink\">\n",
        " <defs>\n",
        "  <style type=\"text/css\">\n",
        "*{stroke-linecap:butt;stroke-linejoin:round;}\n",
        "  </style>\n",
        " </defs>\n",
        " <g id=\"figure_1\">\n",
        "  <g id=\"patch_1\">\n",
        "   <path d=\"\n",
        "M0 258.016\n",
        "L383.352 258.016\n",
        "L383.352 0\n",
        "L0 0\n",
        "z\n",
        "\" style=\"fill:#ffffff;\"/>\n",
        "  </g>\n",
        "  <g id=\"axes_1\">\n",
        "   <g id=\"patch_2\">\n",
        "    <path d=\"\n",
        "M36.0031 235.205\n",
        "L370.803 235.205\n",
        "L370.803 12.0055\n",
        "L36.0031 12.0055\n",
        "z\n",
        "\" style=\"fill:#eeeeee;\"/>\n",
        "   </g>\n",
        "   <g id=\"matplotlib.axis_1\">\n",
        "    <g id=\"xtick_1\">\n",
        "     <g id=\"line2d_1\">\n",
        "      <defs>\n",
        "       <path d=\"\n",
        "M0 0\n",
        "L0 -6\" id=\"mf3df761542\" style=\"stroke:#555555;stroke-width:0.5;\"/>\n",
        "      </defs>\n",
        "      <g>\n",
        "       <use style=\"fill:#555555;stroke:#555555;stroke-width:0.5;\" x=\"36.003125\" xlink:href=\"#mf3df761542\" y=\"235.20546875\"/>\n",
        "      </g>\n",
        "     </g>\n",
        "     <g id=\"line2d_2\">\n",
        "      <defs>\n",
        "       <path d=\"\n",
        "M0 0\n",
        "L0 6\" id=\"m0b07f1d9bc\" style=\"stroke:#555555;stroke-width:0.5;\"/>\n",
        "      </defs>\n",
        "      <g>\n",
        "       <use style=\"fill:#555555;stroke:#555555;stroke-width:0.5;\" x=\"36.003125\" xlink:href=\"#m0b07f1d9bc\" y=\"12.00546875\"/>\n",
        "      </g>\n",
        "     </g>\n",
        "     <g id=\"text_1\">\n",
        "      <!-- 0 -->\n",
        "      <defs>\n",
        "       <path d=\"\n",
        "M56.9844 36.375\n",
        "Q56.9844 16.7969 50.8594 7.64062\n",
        "Q44.7344 -1.51562 31.8438 -1.51562\n",
        "Q18.75 -1.51562 12.7188 7.76562\n",
        "Q6.6875 17.0469 6.6875 36.2812\n",
        "Q6.6875 55.6719 12.7812 64.9219\n",
        "Q18.8906 74.1719 31.8438 74.1719\n",
        "Q44.9219 74.1719 50.9531 64.7656\n",
        "Q56.9844 55.375 56.9844 36.375\n",
        "M44.1406 14.2031\n",
        "Q45.8438 18.1719 46.4531 23.5156\n",
        "Q47.0781 28.8594 47.0781 36.375\n",
        "Q47.0781 43.7969 46.4531 49.2656\n",
        "Q45.8438 54.7344 44.0938 58.5469\n",
        "Q42.3906 62.3125 39.4219 64.2031\n",
        "Q36.4688 66.1094 31.8438 66.1094\n",
        "Q27.25 66.1094 24.2344 64.2031\n",
        "Q21.2344 62.3125 19.4844 58.4531\n",
        "Q17.8281 54.8281 17.2188 49.0156\n",
        "Q16.6094 43.2188 16.6094 36.2812\n",
        "Q16.6094 28.6562 17.1406 23.5312\n",
        "Q17.6719 18.4062 19.4375 14.3594\n",
        "Q21.0469 10.5469 24 8.54688\n",
        "Q26.9531 6.54688 31.8438 6.54688\n",
        "Q36.4219 6.54688 39.4531 8.45312\n",
        "Q42.4844 10.3594 44.1406 14.2031\" id=\"Verdana-30\"/>\n",
        "      </defs>\n",
        "      <g style=\"fill:#555555;\" transform=\"translate(33.48828125 248.80390625)scale(0.1 -0.1)\">\n",
        "       <use xlink:href=\"#Verdana-30\"/>\n",
        "      </g>\n",
        "     </g>\n",
        "    </g>\n",
        "    <g id=\"xtick_2\">\n",
        "     <g id=\"line2d_3\">\n",
        "      <g>\n",
        "       <use style=\"fill:#555555;stroke:#555555;stroke-width:0.5;\" x=\"102.963125\" xlink:href=\"#mf3df761542\" y=\"235.20546875\"/>\n",
        "      </g>\n",
        "     </g>\n",
        "     <g id=\"line2d_4\">\n",
        "      <g>\n",
        "       <use style=\"fill:#555555;stroke:#555555;stroke-width:0.5;\" x=\"102.963125\" xlink:href=\"#m0b07f1d9bc\" y=\"12.00546875\"/>\n",
        "      </g>\n",
        "     </g>\n",
        "     <g id=\"text_2\">\n",
        "      <!-- 2 -->\n",
        "      <defs>\n",
        "       <path d=\"\n",
        "M57.0781 0\n",
        "L7.85938 0\n",
        "L7.85938 10.2031\n",
        "Q12.9844 14.5938 18.1406 18.9844\n",
        "Q23.2969 23.3906 27.7344 27.7344\n",
        "Q37.1094 36.8125 40.5781 42.1562\n",
        "Q44.0469 47.5156 44.0469 53.7188\n",
        "Q44.0469 59.375 40.3125 62.5625\n",
        "Q36.5781 65.7656 29.8906 65.7656\n",
        "Q25.4375 65.7656 20.2656 64.2031\n",
        "Q15.0938 62.6406 10.1562 59.4219\n",
        "L9.67188 59.4219\n",
        "L9.67188 69.6719\n",
        "Q13.1406 71.3906 18.9219 72.7969\n",
        "Q24.7031 74.2188 30.125 74.2188\n",
        "Q41.3125 74.2188 47.6562 68.8125\n",
        "Q54 63.4219 54 54.2031\n",
        "Q54 50.0469 52.9531 46.4531\n",
        "Q51.9062 42.875 49.8594 39.6562\n",
        "Q47.9531 36.625 45.3906 33.6875\n",
        "Q42.8281 30.7656 39.1562 27.2031\n",
        "Q33.9375 22.0781 28.3594 17.2656\n",
        "Q22.7969 12.4531 17.9688 8.34375\n",
        "L57.0781 8.34375\n",
        "z\n",
        "\" id=\"Verdana-32\"/>\n",
        "      </defs>\n",
        "      <g style=\"fill:#555555;\" transform=\"translate(100.5021875 248.80390625)scale(0.1 -0.1)\">\n",
        "       <use xlink:href=\"#Verdana-32\"/>\n",
        "      </g>\n",
        "     </g>\n",
        "    </g>\n",
        "    <g id=\"xtick_3\">\n",
        "     <g id=\"line2d_5\">\n",
        "      <g>\n",
        "       <use style=\"fill:#555555;stroke:#555555;stroke-width:0.5;\" x=\"169.923125\" xlink:href=\"#mf3df761542\" y=\"235.20546875\"/>\n",
        "      </g>\n",
        "     </g>\n",
        "     <g id=\"line2d_6\">\n",
        "      <g>\n",
        "       <use style=\"fill:#555555;stroke:#555555;stroke-width:0.5;\" x=\"169.923125\" xlink:href=\"#m0b07f1d9bc\" y=\"12.00546875\"/>\n",
        "      </g>\n",
        "     </g>\n",
        "     <g id=\"text_3\">\n",
        "      <!-- 4 -->\n",
        "      <defs>\n",
        "       <path d=\"\n",
        "M58.7344 20.4531\n",
        "L47.9531 20.4531\n",
        "L47.9531 0\n",
        "L38.5781 0\n",
        "L38.5781 20.4531\n",
        "L3.76562 20.4531\n",
        "L3.76562 31.6875\n",
        "L38.9688 72.7031\n",
        "L47.9531 72.7031\n",
        "L47.9531 28.2656\n",
        "L58.7344 28.2656\n",
        "z\n",
        "\n",
        "M38.5781 28.2656\n",
        "L38.5781 61.0781\n",
        "L10.4062 28.2656\n",
        "z\n",
        "\" id=\"Verdana-34\"/>\n",
        "      </defs>\n",
        "      <g style=\"fill:#555555;\" transform=\"translate(167.1746875 248.80390625)scale(0.1 -0.1)\">\n",
        "       <use xlink:href=\"#Verdana-34\"/>\n",
        "      </g>\n",
        "     </g>\n",
        "    </g>\n",
        "    <g id=\"xtick_4\">\n",
        "     <g id=\"line2d_7\">\n",
        "      <g>\n",
        "       <use style=\"fill:#555555;stroke:#555555;stroke-width:0.5;\" x=\"236.883125\" xlink:href=\"#mf3df761542\" y=\"235.20546875\"/>\n",
        "      </g>\n",
        "     </g>\n",
        "     <g id=\"line2d_8\">\n",
        "      <g>\n",
        "       <use style=\"fill:#555555;stroke:#555555;stroke-width:0.5;\" x=\"236.883125\" xlink:href=\"#m0b07f1d9bc\" y=\"12.00546875\"/>\n",
        "      </g>\n",
        "     </g>\n",
        "     <g id=\"text_4\">\n",
        "      <!-- 6 -->\n",
        "      <defs>\n",
        "       <path d=\"\n",
        "M58.1562 23.5781\n",
        "Q58.1562 12.5 50.8594 5.48438\n",
        "Q43.5625 -1.51562 32.9531 -1.51562\n",
        "Q27.5938 -1.51562 23.1875 0.140625\n",
        "Q18.7969 1.8125 15.4375 5.07812\n",
        "Q11.2344 9.125 8.95312 15.8125\n",
        "Q6.6875 22.5156 6.6875 31.9375\n",
        "Q6.6875 41.6094 8.76562 49.0781\n",
        "Q10.8438 56.5469 15.375 62.3594\n",
        "Q19.6719 67.875 26.4531 70.9688\n",
        "Q33.25 74.0781 42.2812 74.0781\n",
        "Q45.1719 74.0781 47.125 73.8281\n",
        "Q49.0781 73.5781 51.0781 72.9531\n",
        "L51.0781 63.625\n",
        "L50.5938 63.625\n",
        "Q49.2188 64.3594 46.4531 65.0156\n",
        "Q43.7031 65.6719 40.8281 65.6719\n",
        "Q30.3281 65.6719 24.0781 59.1094\n",
        "Q17.8281 52.5469 16.7969 41.3594\n",
        "Q20.9062 43.8438 24.875 45.1406\n",
        "Q28.8594 46.4375 34.0781 46.4375\n",
        "Q38.7188 46.4375 42.25 45.5781\n",
        "Q45.7969 44.7344 49.5156 42.1406\n",
        "Q53.8125 39.1562 55.9844 34.6094\n",
        "Q58.1562 30.0781 58.1562 23.5781\n",
        "M48.25 23.1875\n",
        "Q48.25 27.7344 46.9062 30.7031\n",
        "Q45.5625 33.6875 42.4844 35.8906\n",
        "Q40.2344 37.4531 37.5 37.9375\n",
        "Q34.7656 38.4219 31.7812 38.4219\n",
        "Q27.6406 38.4219 24.0781 37.4375\n",
        "Q20.5156 36.4688 16.75 34.4219\n",
        "Q16.6562 33.3438 16.5938 32.3438\n",
        "Q16.5469 31.3438 16.5469 29.8281\n",
        "Q16.5469 22.125 18.1406 17.6562\n",
        "Q19.7344 13.1875 22.5156 10.5938\n",
        "Q24.75 8.45312 27.3594 7.45312\n",
        "Q29.9844 6.45312 33.0625 6.45312\n",
        "Q40.1406 6.45312 44.1875 10.7656\n",
        "Q48.25 15.0938 48.25 23.1875\" id=\"Verdana-36\"/>\n",
        "      </defs>\n",
        "      <g style=\"fill:#555555;\" transform=\"translate(234.3096875 248.80390625)scale(0.1 -0.1)\">\n",
        "       <use xlink:href=\"#Verdana-36\"/>\n",
        "      </g>\n",
        "     </g>\n",
        "    </g>\n",
        "    <g id=\"xtick_5\">\n",
        "     <g id=\"line2d_9\">\n",
        "      <g>\n",
        "       <use style=\"fill:#555555;stroke:#555555;stroke-width:0.5;\" x=\"303.843125\" xlink:href=\"#mf3df761542\" y=\"235.20546875\"/>\n",
        "      </g>\n",
        "     </g>\n",
        "     <g id=\"line2d_10\">\n",
        "      <g>\n",
        "       <use style=\"fill:#555555;stroke:#555555;stroke-width:0.5;\" x=\"303.843125\" xlink:href=\"#m0b07f1d9bc\" y=\"12.00546875\"/>\n",
        "      </g>\n",
        "     </g>\n",
        "     <g id=\"text_5\">\n",
        "      <!-- 8 -->\n",
        "      <defs>\n",
        "       <path d=\"\n",
        "M57.625 20.2656\n",
        "Q57.625 10.8438 50.2656 4.59375\n",
        "Q42.9219 -1.65625 31.7812 -1.65625\n",
        "Q19.9688 -1.65625 12.9531 4.4375\n",
        "Q5.95312 10.5469 5.95312 20.0625\n",
        "Q5.95312 26.125 9.46875 31.0312\n",
        "Q12.9844 35.9375 19.3906 38.8125\n",
        "L19.3906 39.1094\n",
        "Q13.5312 42.2344 10.7188 45.9375\n",
        "Q7.90625 49.6562 7.90625 55.2188\n",
        "Q7.90625 63.4219 14.6406 68.8906\n",
        "Q21.3906 74.3594 31.7812 74.3594\n",
        "Q42.6719 74.3594 49.1719 69.1406\n",
        "Q55.6719 63.9219 55.6719 55.8594\n",
        "Q55.6719 50.9219 52.5938 46.1562\n",
        "Q49.5156 41.4062 43.5625 38.7188\n",
        "L43.5625 38.4219\n",
        "Q50.3906 35.5 54 31.2031\n",
        "Q57.625 26.9062 57.625 20.2656\n",
        "M46.0469 55.7656\n",
        "Q46.0469 60.9844 42.0156 64.0781\n",
        "Q37.9844 67.1875 31.7344 67.1875\n",
        "Q25.5938 67.1875 21.6562 64.25\n",
        "Q17.7188 61.3281 17.7188 56.3438\n",
        "Q17.7188 52.8281 19.7031 50.2656\n",
        "Q21.6875 47.7031 25.6875 45.7031\n",
        "Q27.4844 44.8281 30.875 43.4062\n",
        "Q34.2812 42 37.5 41.0625\n",
        "Q42.3281 44.2812 44.1875 47.75\n",
        "Q46.0469 51.2188 46.0469 55.7656\n",
        "M47.5625 19.3438\n",
        "Q47.5625 23.8281 45.5781 26.5312\n",
        "Q43.6094 29.25 37.8438 31.9844\n",
        "Q35.5469 33.0625 32.8125 33.9844\n",
        "Q30.0781 34.9062 25.5312 36.5781\n",
        "Q21.1406 34.1875 18.4844 30.0781\n",
        "Q15.8281 25.9844 15.8281 20.7969\n",
        "Q15.8281 14.2031 20.3594 9.90625\n",
        "Q24.9062 5.60938 31.8906 5.60938\n",
        "Q39.0156 5.60938 43.2812 9.26562\n",
        "Q47.5625 12.9375 47.5625 19.3438\" id=\"Verdana-38\"/>\n",
        "      </defs>\n",
        "      <g style=\"fill:#555555;\" transform=\"translate(301.25953125 248.80390625)scale(0.1 -0.1)\">\n",
        "       <use xlink:href=\"#Verdana-38\"/>\n",
        "      </g>\n",
        "     </g>\n",
        "    </g>\n",
        "    <g id=\"xtick_6\">\n",
        "     <g id=\"line2d_11\">\n",
        "      <g>\n",
        "       <use style=\"fill:#555555;stroke:#555555;stroke-width:0.5;\" x=\"370.803125\" xlink:href=\"#mf3df761542\" y=\"235.20546875\"/>\n",
        "      </g>\n",
        "     </g>\n",
        "     <g id=\"line2d_12\">\n",
        "      <g>\n",
        "       <use style=\"fill:#555555;stroke:#555555;stroke-width:0.5;\" x=\"370.803125\" xlink:href=\"#m0b07f1d9bc\" y=\"12.00546875\"/>\n",
        "      </g>\n",
        "     </g>\n",
        "     <g id=\"text_6\">\n",
        "      <!-- 10 -->\n",
        "      <defs>\n",
        "       <path d=\"\n",
        "M52.9375 0\n",
        "L13.5781 0\n",
        "L13.5781 7.42188\n",
        "L28.7188 7.42188\n",
        "L28.7188 56.1562\n",
        "L13.5781 56.1562\n",
        "L13.5781 62.7969\n",
        "Q16.6562 62.7969 20.1719 63.2969\n",
        "Q23.6875 63.8125 25.4844 64.7969\n",
        "Q27.7344 66.0156 29.0312 67.8906\n",
        "Q30.3281 69.7812 30.5156 72.9531\n",
        "L38.0938 72.9531\n",
        "L38.0938 7.42188\n",
        "L52.9375 7.42188\n",
        "z\n",
        "\" id=\"Verdana-31\"/>\n",
        "      </defs>\n",
        "      <g style=\"fill:#555555;\" transform=\"translate(365.45390625 248.80390625)scale(0.1 -0.1)\">\n",
        "       <use xlink:href=\"#Verdana-31\"/>\n",
        "       <use x=\"63.57421875\" xlink:href=\"#Verdana-30\"/>\n",
        "      </g>\n",
        "     </g>\n",
        "    </g>\n",
        "   </g>\n",
        "   <g id=\"matplotlib.axis_2\">\n",
        "    <g id=\"ytick_1\">\n",
        "     <g id=\"line2d_13\">\n",
        "      <defs>\n",
        "       <path d=\"\n",
        "M0 0\n",
        "L0 0\" id=\"m8bc147ca23\" style=\"stroke:#555555;stroke-width:0.5;\"/>\n",
        "      </defs>\n",
        "      <g>\n",
        "       <use style=\"fill:#555555;stroke:#555555;stroke-width:0.5;\" x=\"36.003125\" xlink:href=\"#m8bc147ca23\" y=\"235.20546875\"/>\n",
        "      </g>\n",
        "     </g>\n",
        "     <g id=\"line2d_14\">\n",
        "      <g>\n",
        "       <use style=\"fill:#555555;stroke:#555555;stroke-width:0.5;\" x=\"370.803125\" xlink:href=\"#m8bc147ca23\" y=\"235.20546875\"/>\n",
        "      </g>\n",
        "     </g>\n",
        "     <g id=\"text_7\">\n",
        "      <!-- \u22121.0 -->\n",
        "      <defs>\n",
        "       <path d=\"\n",
        "M71.0938 27.9375\n",
        "L10.75 27.9375\n",
        "L10.75 35.75\n",
        "L71.0938 35.75\n",
        "z\n",
        "\" id=\"Verdana-2212\"/>\n",
        "       <path d=\"\n",
        "M24.0312 0\n",
        "L12.3594 0\n",
        "L12.3594 13.9219\n",
        "L24.0312 13.9219\n",
        "z\n",
        "\" id=\"Verdana-2e\"/>\n",
        "      </defs>\n",
        "      <g style=\"fill:#555555;\" transform=\"translate(7.2 237.9984375)scale(0.1 -0.1)\">\n",
        "       <use xlink:href=\"#Verdana-2212\"/>\n",
        "       <use x=\"81.8359375\" xlink:href=\"#Verdana-31\"/>\n",
        "       <use x=\"145.41015625\" xlink:href=\"#Verdana-2e\"/>\n",
        "       <use x=\"181.787109375\" xlink:href=\"#Verdana-30\"/>\n",
        "      </g>\n",
        "     </g>\n",
        "    </g>\n",
        "    <g id=\"ytick_2\">\n",
        "     <g id=\"line2d_15\">\n",
        "      <g>\n",
        "       <use style=\"fill:#555555;stroke:#555555;stroke-width:0.5;\" x=\"36.003125\" xlink:href=\"#m8bc147ca23\" y=\"179.40546875\"/>\n",
        "      </g>\n",
        "     </g>\n",
        "     <g id=\"line2d_16\">\n",
        "      <g>\n",
        "       <use style=\"fill:#555555;stroke:#555555;stroke-width:0.5;\" x=\"370.803125\" xlink:href=\"#m8bc147ca23\" y=\"179.40546875\"/>\n",
        "      </g>\n",
        "     </g>\n",
        "     <g id=\"text_8\">\n",
        "      <!-- \u22120.5 -->\n",
        "      <defs>\n",
        "       <path d=\"\n",
        "M56.5 23.0938\n",
        "Q56.5 18.0156 54.6406 13.375\n",
        "Q52.7812 8.73438 49.5625 5.5625\n",
        "Q46.0469 2.15625 41.1875 0.3125\n",
        "Q36.3281 -1.51562 29.9375 -1.51562\n",
        "Q23.9688 -1.51562 18.4531 -0.265625\n",
        "Q12.9375 0.984375 9.125 2.73438\n",
        "L9.125 13.0312\n",
        "L9.8125 13.0312\n",
        "Q13.8125 10.5 19.1875 8.71875\n",
        "Q24.5625 6.9375 29.7344 6.9375\n",
        "Q33.2031 6.9375 36.4531 7.90625\n",
        "Q39.7031 8.89062 42.2344 11.3281\n",
        "Q44.3906 13.4219 45.4844 16.3438\n",
        "Q46.5781 19.2812 46.5781 23.1406\n",
        "Q46.5781 26.9062 45.2812 29.4844\n",
        "Q44 32.0781 41.7031 33.6406\n",
        "Q39.1562 35.5 35.5156 36.25\n",
        "Q31.8906 37.0156 27.3906 37.0156\n",
        "Q23.0938 37.0156 19.1094 36.4219\n",
        "Q15.1406 35.8438 12.25 35.25\n",
        "L12.25 72.7031\n",
        "L56 72.7031\n",
        "L56 64.1562\n",
        "L21.6875 64.1562\n",
        "L21.6875 44.8281\n",
        "Q23.7812 45.0156 25.9688 45.1094\n",
        "Q28.1719 45.2188 29.7812 45.2188\n",
        "Q35.6875 45.2188 40.125 44.2188\n",
        "Q44.5781 43.2188 48.2969 40.6719\n",
        "Q52.2031 37.9844 54.3438 33.7344\n",
        "Q56.5 29.5 56.5 23.0938\" id=\"Verdana-35\"/>\n",
        "      </defs>\n",
        "      <g style=\"fill:#555555;\" transform=\"translate(7.2484375 182.1984375)scale(0.1 -0.1)\">\n",
        "       <use xlink:href=\"#Verdana-2212\"/>\n",
        "       <use x=\"81.8359375\" xlink:href=\"#Verdana-30\"/>\n",
        "       <use x=\"145.41015625\" xlink:href=\"#Verdana-2e\"/>\n",
        "       <use x=\"181.787109375\" xlink:href=\"#Verdana-35\"/>\n",
        "      </g>\n",
        "     </g>\n",
        "    </g>\n",
        "    <g id=\"ytick_3\">\n",
        "     <g id=\"line2d_17\">\n",
        "      <g>\n",
        "       <use style=\"fill:#555555;stroke:#555555;stroke-width:0.5;\" x=\"36.003125\" xlink:href=\"#m8bc147ca23\" y=\"123.60546875\"/>\n",
        "      </g>\n",
        "     </g>\n",
        "     <g id=\"line2d_18\">\n",
        "      <g>\n",
        "       <use style=\"fill:#555555;stroke:#555555;stroke-width:0.5;\" x=\"370.803125\" xlink:href=\"#m8bc147ca23\" y=\"123.60546875\"/>\n",
        "      </g>\n",
        "     </g>\n",
        "     <g id=\"text_9\">\n",
        "      <!-- 0.0 -->\n",
        "      <g style=\"fill:#555555;\" transform=\"translate(14.978125 126.3984375)scale(0.1 -0.1)\">\n",
        "       <use xlink:href=\"#Verdana-30\"/>\n",
        "       <use x=\"63.57421875\" xlink:href=\"#Verdana-2e\"/>\n",
        "       <use x=\"99.951171875\" xlink:href=\"#Verdana-30\"/>\n",
        "      </g>\n",
        "     </g>\n",
        "    </g>\n",
        "    <g id=\"ytick_4\">\n",
        "     <g id=\"line2d_19\">\n",
        "      <g>\n",
        "       <use style=\"fill:#555555;stroke:#555555;stroke-width:0.5;\" x=\"36.003125\" xlink:href=\"#m8bc147ca23\" y=\"67.80546875\"/>\n",
        "      </g>\n",
        "     </g>\n",
        "     <g id=\"line2d_20\">\n",
        "      <g>\n",
        "       <use style=\"fill:#555555;stroke:#555555;stroke-width:0.5;\" x=\"370.803125\" xlink:href=\"#m8bc147ca23\" y=\"67.80546875\"/>\n",
        "      </g>\n",
        "     </g>\n",
        "     <g id=\"text_10\">\n",
        "      <!-- 0.5 -->\n",
        "      <g style=\"fill:#555555;\" transform=\"translate(15.0265625 70.5984375)scale(0.1 -0.1)\">\n",
        "       <use xlink:href=\"#Verdana-30\"/>\n",
        "       <use x=\"63.57421875\" xlink:href=\"#Verdana-2e\"/>\n",
        "       <use x=\"99.951171875\" xlink:href=\"#Verdana-35\"/>\n",
        "      </g>\n",
        "     </g>\n",
        "    </g>\n",
        "    <g id=\"ytick_5\">\n",
        "     <g id=\"line2d_21\">\n",
        "      <g>\n",
        "       <use style=\"fill:#555555;stroke:#555555;stroke-width:0.5;\" x=\"36.003125\" xlink:href=\"#m8bc147ca23\" y=\"12.00546875\"/>\n",
        "      </g>\n",
        "     </g>\n",
        "     <g id=\"line2d_22\">\n",
        "      <g>\n",
        "       <use style=\"fill:#555555;stroke:#555555;stroke-width:0.5;\" x=\"370.803125\" xlink:href=\"#m8bc147ca23\" y=\"12.00546875\"/>\n",
        "      </g>\n",
        "     </g>\n",
        "     <g id=\"text_11\">\n",
        "      <!-- 1.0 -->\n",
        "      <g style=\"fill:#555555;\" transform=\"translate(15.6671875 14.7984375)scale(0.1 -0.1)\">\n",
        "       <use xlink:href=\"#Verdana-31\"/>\n",
        "       <use x=\"63.57421875\" xlink:href=\"#Verdana-2e\"/>\n",
        "       <use x=\"99.951171875\" xlink:href=\"#Verdana-30\"/>\n",
        "      </g>\n",
        "     </g>\n",
        "    </g>\n",
        "   </g>\n",
        "   <g id=\"line2d_23\">\n",
        "    <path clip-path=\"url(#p9968ac40e4)\" d=\"\n",
        "M36.0031 123.605\n",
        "L45.0518 93.8092\n",
        "L50.0788 78.0566\n",
        "L54.1004 66.1762\n",
        "L57.4518 56.9011\n",
        "L60.8031 48.2939\n",
        "L63.8193 41.1898\n",
        "L66.5004 35.4345\n",
        "L68.8464 30.861\n",
        "L71.1923 26.7427\n",
        "L73.5383 23.0998\n",
        "L75.5491 20.3693\n",
        "L77.5599 18.0111\n",
        "L79.5707 16.0336\n",
        "L81.2464 14.6818\n",
        "L82.922 13.6028\n",
        "L84.5977 12.7993\n",
        "L86.2734 12.2733\n",
        "L87.9491 12.0261\n",
        "L89.2896 12.0296\n",
        "L90.6302 12.2119\n",
        "L92.3058 12.6909\n",
        "L93.9815 13.4476\n",
        "L95.6572 14.4802\n",
        "L97.3329 15.7861\n",
        "L99.0085 17.3621\n",
        "L101.019 19.604\n",
        "L103.03 22.2211\n",
        "L105.041 25.2037\n",
        "L107.387 29.1311\n",
        "L109.733 33.5221\n",
        "L112.079 38.3553\n",
        "L114.76 44.3897\n",
        "L117.776 51.7833\n",
        "L120.792 59.7595\n",
        "L124.144 69.2262\n",
        "L128.165 81.2962\n",
        "L132.857 96.1358\n",
        "L139.225 117.08\n",
        "L150.619 154.643\n",
        "L155.311 169.312\n",
        "L159.333 181.183\n",
        "L162.684 190.448\n",
        "L165.7 198.218\n",
        "L168.717 205.382\n",
        "L171.398 211.195\n",
        "L174.079 216.446\n",
        "L176.425 220.554\n",
        "L178.771 224.186\n",
        "L180.782 226.907\n",
        "L182.792 229.256\n",
        "L184.803 231.223\n",
        "L186.479 232.567\n",
        "L188.154 233.637\n",
        "L189.83 234.432\n",
        "L191.506 234.949\n",
        "L193.182 235.188\n",
        "L194.522 235.178\n",
        "L195.863 234.988\n",
        "L197.538 234.501\n",
        "L199.214 233.735\n",
        "L200.89 232.694\n",
        "L202.565 231.38\n",
        "L204.241 229.796\n",
        "L206.252 227.544\n",
        "L208.263 224.917\n",
        "L210.273 221.926\n",
        "L212.619 217.988\n",
        "L214.965 213.587\n",
        "L217.646 208.017\n",
        "L220.327 201.907\n",
        "L223.344 194.435\n",
        "L226.695 185.462\n",
        "L230.382 174.88\n",
        "L234.403 162.633\n",
        "L239.43 146.554\n",
        "L247.138 121.025\n",
        "L255.517 93.4758\n",
        "L260.209 78.7615\n",
        "L264.23 66.8386\n",
        "L267.917 56.624\n",
        "L270.933 48.8647\n",
        "L273.949 41.7116\n",
        "L276.63 35.9093\n",
        "L279.311 30.669\n",
        "L281.657 26.5713\n",
        "L284.003 22.9499\n",
        "L286.014 20.2383\n",
        "L288.025 17.8996\n",
        "L290.036 15.942\n",
        "L291.711 14.607\n",
        "L293.387 13.545\n",
        "L295.063 12.7586\n",
        "L296.738 12.2499\n",
        "L298.414 12.02\n",
        "L299.754 12.0373\n",
        "L301.095 12.2335\n",
        "L302.771 12.7297\n",
        "L304.446 13.5036\n",
        "L306.122 14.5532\n",
        "L307.798 15.8759\n",
        "L309.473 17.4685\n",
        "L311.484 19.7301\n",
        "L313.495 22.3662\n",
        "L315.506 25.3674\n",
        "L317.852 29.3157\n",
        "L320.198 33.7268\n",
        "L322.879 39.3068\n",
        "L325.56 45.4272\n",
        "L328.576 52.9094\n",
        "L331.927 61.8927\n",
        "L335.614 72.4842\n",
        "L339.636 84.7402\n",
        "L344.663 100.826\n",
        "L352.706 127.475\n",
        "L360.749 153.902\n",
        "L365.441 168.608\n",
        "L369.463 180.521\n",
        "L370.803 184.318\n",
        "L370.803 184.318\" style=\"fill:none;stroke:#348abd;stroke-linecap:square;\"/>\n",
        "   </g>\n",
        "   <g id=\"patch_3\">\n",
        "    <path d=\"\n",
        "M36.0031 12.0055\n",
        "L370.803 12.0055\" style=\"fill:none;stroke:#bcbcbc;\"/>\n",
        "   </g>\n",
        "   <g id=\"patch_4\">\n",
        "    <path d=\"\n",
        "M370.803 235.205\n",
        "L370.803 12.0055\" style=\"fill:none;stroke:#bcbcbc;\"/>\n",
        "   </g>\n",
        "   <g id=\"patch_5\">\n",
        "    <path d=\"\n",
        "M36.0031 235.205\n",
        "L370.803 235.205\" style=\"fill:none;stroke:#bcbcbc;\"/>\n",
        "   </g>\n",
        "   <g id=\"patch_6\">\n",
        "    <path d=\"\n",
        "M36.0031 235.205\n",
        "L36.0031 12.0055\" style=\"fill:none;stroke:#bcbcbc;\"/>\n",
        "   </g>\n",
        "  </g>\n",
        " </g>\n",
        " <defs>\n",
        "  <clipPath id=\"p9968ac40e4\">\n",
        "   <rect height=\"223.2\" width=\"334.8\" x=\"36.003125\" y=\"12.00546875\"/>\n",
        "  </clipPath>\n",
        " </defs>\n",
        "</svg>\n"
       ],
       "text": [
        "<matplotlib.figure.Figure at 0x107a7ef50>"
       ]
      }
     ],
     "prompt_number": 13
    },
    {
     "cell_type": "heading",
     "level": 2,
     "metadata": {},
     "source": [
      "Startup Files"
     ]
    },
    {
     "cell_type": "markdown",
     "metadata": {},
     "source": [
      "Startup files are simple Python or IPython scripts\n",
      "that are run whenever you start IPython.\n",
      "These are a useful way to do super common imports,\n",
      "or for building database connections to load on startup of a non-default profile.\n",
      "\n",
      "We can use a startup file to ensure that our `%tic/toc` magics are always defined,\n",
      "every time we start IPython."
     ]
    },
    {
     "cell_type": "code",
     "collapsed": false,
     "input": [
      "!ls $profile/startup"
     ],
     "language": "python",
     "metadata": {},
     "outputs": [
      {
       "output_type": "stream",
       "stream": "stdout",
       "text": [
        "README\r\n"
       ]
      }
     ],
     "prompt_number": 14
    },
    {
     "cell_type": "code",
     "collapsed": false,
     "input": [
      "!cat $profile/startup/README"
     ],
     "language": "python",
     "metadata": {},
     "outputs": [
      {
       "output_type": "stream",
       "stream": "stdout",
       "text": [
        "This is the IPython startup directory\r\n",
        "\r\n",
        ".py and .ipy files in this directory will be run *prior* to any code or files specified\r\n",
        "via the exec_lines or exec_files configurables whenever you load this profile.\r\n",
        "\r\n",
        "Files will be run in lexicographical order, so you can control the execution order of files\r\n",
        "with a prefix, e.g.::\r\n",
        "\r\n",
        "    00-first.py\r\n",
        "    50-middle.py\r\n",
        "    99-last.ipy\r\n"
       ]
      }
     ],
     "prompt_number": 15
    },
    {
     "cell_type": "markdown",
     "metadata": {},
     "source": [
      "Adding common imports, so we never have to forget them again"
     ]
    },
    {
     "cell_type": "code",
     "collapsed": false,
     "input": [
      "%%writefile $profile/startup/simpleimports.py\n",
      "\n",
      "import sys, os, time, re"
     ],
     "language": "python",
     "metadata": {},
     "outputs": [
      {
       "output_type": "stream",
       "stream": "stdout",
       "text": [
        "Writing /Users/minrk/Dropbox/dev/ip/pres/ipython-in-depth/profile_euroscipy/startup/simpleimports.py\n"
       ]
      }
     ],
     "prompt_number": 16
    },
    {
     "cell_type": "markdown",
     "metadata": {},
     "source": [
      "**Restart the kernel** and then run the following cells immediately to verify these scripts have been executed:"
     ]
    },
    {
     "cell_type": "code",
     "collapsed": false,
     "input": [
      "sys"
     ],
     "language": "python",
     "metadata": {},
     "outputs": [
      {
       "metadata": {},
       "output_type": "pyout",
       "prompt_number": 1,
       "text": [
        "<module 'sys' (built-in)>"
       ]
      }
     ],
     "prompt_number": 1
    },
    {
     "cell_type": "heading",
     "level": 2,
     "metadata": {},
     "source": [
      "Extensions"
     ]
    },
    {
     "cell_type": "code",
     "collapsed": false,
     "input": [
      "profile = get_ipython().profile_dir.location"
     ],
     "language": "python",
     "metadata": {},
     "outputs": [],
     "prompt_number": 2
    },
    {
     "cell_type": "code",
     "collapsed": false,
     "input": [
      "!cat $profile/ipython_config.py | grep InteractiveShellApp.extensions"
     ],
     "language": "python",
     "metadata": {},
     "outputs": [
      {
       "output_type": "stream",
       "stream": "stdout",
       "text": [
        "# c.InteractiveShellApp.extensions = []\r\n"
       ]
      }
     ],
     "prompt_number": 3
    },
    {
     "cell_type": "code",
     "collapsed": false,
     "input": [
      "!echo \"c.InteractiveShellApp.extensions = ['mymagics']\" >> $profile/ipython_config.py\n",
      "!tail $profile/ipython_config.py"
     ],
     "language": "python",
     "metadata": {},
     "outputs": [
      {
       "output_type": "stream",
       "stream": "stdout",
       "text": [
        "# If you want to add script magics that aren't on your path, specify them in\r\n",
        "# script_paths\r\n",
        "# c.ScriptMagics.script_magics = []\r\n",
        "\r\n",
        "# Dict mapping short 'ruby' names to full paths, such as '/opt/secret/bin/ruby'\r\n",
        "# \r\n",
        "# Only necessary for items in script_magics where the default path will not find\r\n",
        "# the right interpreter.\r\n",
        "# c.ScriptMagics.script_paths = {}\r\n",
        "c.InteractiveShellApp.extensions = ['mymagics']\r\n"
       ]
      }
     ],
     "prompt_number": 4
    },
    {
     "cell_type": "markdown",
     "metadata": {},
     "source": [
      "**Restart the kernel** to see the effects:"
     ]
    },
    {
     "cell_type": "code",
     "collapsed": false,
     "input": [
      "import time\n",
      "%tic\n",
      "time.sleep(0.1)\n",
      "%toc"
     ],
     "language": "python",
     "metadata": {},
     "outputs": [
      {
       "output_type": "stream",
       "stream": "stdout",
       "text": [
        "101 ms\n"
       ]
      }
     ],
     "prompt_number": 1
    },
    {
     "cell_type": "code",
     "collapsed": false,
     "input": [
      "%nbrun Sample"
     ],
     "language": "python",
     "metadata": {},
     "outputs": [
      {
       "output_type": "stream",
       "stream": "stdout",
       "text": [
        "hello\n"
       ]
      },
      {
       "metadata": {
        "png": {
         "height": 257,
         "width": 379
        }
       },
       "output_type": "display_data",
       "png": "[encoded data removed]",
       "text": [
        "<matplotlib.figure.Figure at 0x103ec26d0>"
       ]
      }
     ],
     "prompt_number": 2
    }
   ],
   "metadata": {}
  }
 ]
}