{
 "metadata": {
  "name": "",
  "signature": "sha256:951ab2d8349b2ac2f4e27a84c66e21f180f334f0d3546d9cb3862cafae7f03df"
 },
 "nbformat": 3,
 "nbformat_minor": 0,
 "worksheets": [
  {
   "cells": [
    {
     "cell_type": "heading",
     "level": 1,
     "metadata": {},
     "source": [
      "Configuring IPython"
     ]
    },
    {
     "cell_type": "heading",
     "level": 2,
     "metadata": {},
     "source": [
      "Finding configuration options"
     ]
    },
    {
     "cell_type": "markdown",
     "metadata": {},
     "source": [
      "IPython has many configurable attributes. These can be viewed using the `-h` flag to the command line applications:"
     ]
    },
    {
     "cell_type": "code",
     "collapsed": false,
     "input": [
      "!ipython -h"
     ],
     "language": "python",
     "metadata": {},
     "outputs": [
      {
       "output_type": "stream",
       "stream": "stdout",
       "text": [
        "=========\r\n",
        " IPython\r\n",
        "=========\r\n",
        "\r\n",
        "Tools for Interactive Computing in Python\r\n",
        "=========================================\r\n",
        "\r\n",
        "    A Python shell with automatic history (input and output), dynamic object\r\n",
        "    introspection, easier configuration, command completion, access to the\r\n",
        "    system shell and more.  IPython can also be embedded in running programs.\r\n",
        "\r\n",
        "Usage\r\n",
        "\r\n",
        "    ipython [subcommand] [options] [-c cmd | -m mod | file] [--] [arg] ...\r\n",
        "\r\n",
        "    If invoked with no options, it executes the file and exits, passing the\r\n",
        "    remaining arguments to the script, just as if you had specified the same\r\n",
        "    command with python. You may need to specify `--` before args to be passed\r\n",
        "    to the script, to prevent IPython from attempting to parse them. If you\r\n",
        "    specify the option `-i` before the filename, it will enter an interactive\r\n",
        "    IPython session after running the script, rather than exiting. Files ending\r\n",
        "    in .py will be treated as normal Python, but files ending in .ipy can\r\n",
        "    contain special IPython syntax (magic commands, shell expansions, etc.).\r\n",
        "\r\n",
        "    Almost all configuration in IPython is available via the command-line. Do\r\n",
        "    `ipython --help-all` to see all available options.  For persistent\r\n",
        "    configuration, look into your `ipython_config.py` configuration file for\r\n",
        "    details.\r\n",
        "\r\n",
        "    This file is typically installed in the `IPYTHONDIR` directory, and there\r\n",
        "    is a separate configuration directory for each profile. The default profile\r\n",
        "    directory will be located in $IPYTHONDIR/profile_default. IPYTHONDIR\r\n",
        "    defaults to to `$HOME/.ipython`.  For Windows users, $HOME resolves to\r\n",
        "    C:\\Documents and Settings\\YourUserName in most instances.\r\n",
        "\r\n",
        "    To initialize a profile with the default configuration file, do::\r\n",
        "\r\n",
        "      $> ipython profile create\r\n",
        "\r\n",
        "    and start editing `IPYTHONDIR/profile_default/ipython_config.py`\r\n",
        "\r\n",
        "    In IPython's documentation, we will refer to this directory as\r\n",
        "    `IPYTHONDIR`, you can change its default location by creating an\r\n",
        "    environment variable with this name and setting it to the desired path.\r\n",
        "\r\n",
        "    For more information, see the manual available in HTML and PDF in your\r\n",
        "    installation, or online at http://ipython.org/documentation.html.\r\n",
        "\r\n",
        "Subcommands\r\n",
        "-----------\r\n",
        "\r\n",
        "Subcommands are launched as `ipython cmd [args]`. For information on using\r\n",
        "subcommand 'cmd', do: `ipython cmd -h`.\r\n",
        "\r\n",
        "locate\r\n",
        "    print the path to the IPython dir\r\n",
        "kernel\r\n",
        "    Start a kernel without an attached frontend.\r\n",
        "console\r\n",
        "    Launch the IPython terminal-based Console.\r\n",
        "install-nbextension\r\n",
        "    Install IPython notebook extension files\r\n",
        "notebook\r\n",
        "    Launch the IPython HTML Notebook Server.\r\n",
        "profile\r\n",
        "    Create and manage IPython profiles.\r\n",
        "qtconsole\r\n",
        "    Launch the IPython Qt Console.\r\n",
        "nbconvert\r\n",
        "    Convert notebooks to/from other formats.\r\n",
        "trust\r\n",
        "    Sign notebooks to trust their potentially unsafe contents at load.\r\n",
        "history\r\n",
        "    Manage the IPython history database.\r\n",
        "\r\n",
        "Options\r\n",
        "-------\r\n",
        "\r\n",
        "Arguments that take values are actually convenience aliases to full\r\n",
        "Configurables, whose aliases are listed on the help line. For more information\r\n",
        "on full configurables, see '--help-all'.\r\n",
        "\r\n",
        "--no-autoindent\r\n",
        "    Turn off autoindenting.\r\n",
        "--autoedit-syntax\r\n",
        "    Turn on auto editing of files with syntax errors.\r\n",
        "--deep-reload\r\n",
        "    Enable deep (recursive) reloading by default. IPython can use the\r\n",
        "    deep_reload module which reloads changes in modules recursively (it\r\n",
        "    replaces the reload() function, so you don't need to change anything to\r\n",
        "    use it). deep_reload() forces a full reload of modules whose code may\r\n",
        "    have changed, which the default reload() function does not.  When\r\n",
        "    deep_reload is off, IPython will use the normal reload(), but\r\n",
        "    deep_reload will still be available as dreload(). This feature is off\r\n",
        "    by default [which means that you have both normal reload() and\r\n",
        "    dreload()].\r\n",
        "--confirm-exit\r\n",
        "    Set to confirm when you try to exit IPython with an EOF (Control-D\r\n",
        "    in Unix, Control-Z/Enter in Windows). By typing 'exit' or 'quit',\r\n",
        "    you can force a direct exit without any confirmation.\r\n",
        "--pylab\r\n",
        "    Pre-load matplotlib and numpy for interactive use with\r\n",
        "    the default matplotlib backend.\r\n",
        "--matplotlib\r\n",
        "    Configure matplotlib for interactive use with\r\n",
        "    the default matplotlib backend.\r\n",
        "--term-title\r\n",
        "    Enable auto setting the terminal title.\r\n",
        "--classic\r\n",
        "    Gives IPython a similar feel to the classic Python prompt.\r\n",
        "--autoindent\r\n",
        "    Turn on autoindenting.\r\n",
        "--no-automagic\r\n",
        "    Turn off the auto calling of magic commands.\r\n",
        "--banner\r\n",
        "    Display a banner upon starting IPython.\r\n",
        "--automagic\r\n",
        "    Turn on the auto calling of magic commands. Type %%magic at the\r\n",
        "    IPython  prompt  for  more information.\r\n",
        "--no-deep-reload\r\n",
        "    Disable deep (recursive) reloading by default.\r\n",
        "--no-term-title\r\n",
        "    Disable auto setting the terminal title.\r\n",
        "--nosep\r\n",
        "    Eliminate all spacing between prompts.\r\n",
        "-i\r\n",
        "    If running code from the command line, become interactive afterwards.\r\n",
        "    Note: can also be given simply as '-i'.\r\n",
        "--debug\r\n",
        "    set log level to logging.DEBUG (maximize logging output)\r\n",
        "--pprint\r\n",
        "    Enable auto pretty printing of results.\r\n",
        "--no-autoedit-syntax\r\n",
        "    Turn off auto editing of files with syntax errors.\r\n",
        "--quiet\r\n",
        "    set log level to logging.CRITICAL (minimize logging output)\r\n",
        "--no-color-info\r\n",
        "    Disable using colors for info related things.\r\n",
        "--color-info\r\n",
        "    IPython can display information about objects via a set of func-\r\n",
        "    tions, and optionally can use colors for this, syntax highlighting\r\n",
        "    source code and various other elements.  However, because this\r\n",
        "    information is passed through a pager (like 'less') and many pagers get\r\n",
        "    confused with color codes, this option is off by default.  You can test\r\n",
        "    it and turn it on permanently in your ipython_config.py file if it\r\n",
        "    works for you.  Test it and turn it on permanently if it works with\r\n",
        "    your system.  The magic function %%color_info allows you to toggle this\r\n",
        "    interactively for testing.\r\n",
        "--init\r\n",
        "    Initialize profile with default config files.  This is equivalent\r\n",
        "    to running `ipython profile create <profile>` prior to startup.\r\n",
        "--no-pdb\r\n",
        "    Disable auto calling the pdb debugger after every exception.\r\n",
        "--quick\r\n",
        "    Enable quick startup with no config files.\r\n",
        "--no-confirm-exit\r\n",
        "    Don't prompt the user when exiting.\r\n",
        "--pydb\r\n",
        "    Use the third party 'pydb' package as debugger, instead of pdb.\r\n",
        "    Requires that pydb is installed.\r\n",
        "--pdb\r\n",
        "    Enable auto calling the pdb debugger after every exception.\r\n",
        "--no-pprint\r\n",
        "    Disable auto pretty printing of results.\r\n",
        "--no-banner\r\n",
        "    Don't display a banner upon starting IPython.\r\n",
        "--profile=<Unicode> (BaseIPythonApplication.profile)\r\n",
        "    Default: u'default'\r\n",
        "    The IPython profile to use.\r\n",
        "--pylab=<CaselessStrEnum> (InteractiveShellApp.pylab)\r\n",
        "    Default: None\r\n",
        "    Choices: ['auto', 'gtk', 'gtk3', 'inline', 'osx', 'qt', 'qt4', 'tk', 'wx']\r\n",
        "    Pre-load matplotlib and numpy for interactive use, selecting a particular\r\n",
        "    matplotlib backend and loop integration.\r\n",
        "--matplotlib=<CaselessStrEnum> (InteractiveShellApp.matplotlib)\r\n",
        "    Default: None\r\n",
        "    Choices: ['auto', 'gtk', 'gtk3', 'inline', 'osx', 'qt', 'qt4', 'tk', 'wx']\r\n",
        "    Configure matplotlib for interactive use with the default matplotlib\r\n",
        "    backend.\r\n",
        "--colors=<CaselessStrEnum> (InteractiveShell.colors)\r\n",
        "    Default: 'Linux'\r\n",
        "    Choices: ('NoColor', 'LightBG', 'Linux')\r\n",
        "    Set the color scheme (NoColor, Linux, or LightBG).\r\n",
        "--cache-size=<Integer> (InteractiveShell.cache_size)\r\n",
        "    Default: 1000\r\n",
        "    Set the size of the output cache.  The default is 1000, you can change it\r\n",
        "    permanently in your config file.  Setting it to 0 completely disables the\r\n",
        "    caching system, and the minimum value accepted is 20 (if you provide a value\r\n",
        "    less than 20, it is reset to 0 and a warning is issued).  This limit is\r\n",
        "    defined because otherwise you'll spend more time re-flushing a too small\r\n",
        "    cache than working\r\n",
        "--logfile=<Unicode> (InteractiveShell.logfile)\r\n",
        "    Default: ''\r\n",
        "    The name of the logfile to use.\r\n",
        "--profile-dir=<Unicode> (ProfileDir.location)\r\n",
        "    Default: u''\r\n",
        "    Set the profile location directly. This overrides the logic used by the\r\n",
        "    `profile` option.\r\n",
        "-c <Unicode> (InteractiveShellApp.code_to_run)\r\n",
        "    Default: ''\r\n",
        "    Execute the given command string.\r\n",
        "--autocall=<Enum> (InteractiveShell.autocall)\r\n",
        "    Default: 0\r\n",
        "    Choices: (0, 1, 2)\r\n",
        "    Make IPython automatically call any callable object even if you didn't type\r\n",
        "    explicit parentheses. For example, 'str 43' becomes 'str(43)' automatically.\r\n",
        "    The value can be '0' to disable the feature, '1' for 'smart' autocall, where\r\n",
        "    it is not applied if there are no more arguments on the line, and '2' for\r\n",
        "    'full' autocall, where all callable objects are automatically called (even\r\n",
        "    if no arguments are present).\r\n",
        "--ipython-dir=<Unicode> (BaseIPythonApplication.ipython_dir)\r\n",
        "    Default: u''\r\n",
        "    The name of the IPython directory. This directory is used for logging\r\n",
        "    configuration (through profiles), history storage, etc. The default is\r\n",
        "    usually $HOME/.ipython. This options can also be specified through the\r\n",
        "    environment variable IPYTHONDIR.\r\n",
        "--gui=<CaselessStrEnum> (InteractiveShellApp.gui)\r\n",
        "    Default: None\r\n",
        "    Choices: ('glut', 'gtk', 'gtk3', 'none', 'osx', 'pyglet', 'qt', 'qt4', 'tk', 'wx')\r\n",
        "    Enable GUI event loop integration with any of ('glut', 'gtk', 'gtk3',\r\n",
        "    'none', 'osx', 'pyglet', 'qt', 'qt4', 'tk', 'wx').\r\n",
        "--logappend=<Unicode> (InteractiveShell.logappend)\r\n",
        "    Default: ''\r\n",
        "    Start logging to the given file in append mode.\r\n",
        "-m <Unicode> (InteractiveShellApp.module_to_run)\r\n",
        "    Default: ''\r\n",
        "    Run the module as a script.\r\n",
        "--log-level=<Enum> (Application.log_level)\r\n",
        "    Default: 30\r\n",
        "    Choices: (0, 10, 20, 30, 40, 50, 'DEBUG', 'INFO', 'WARN', 'ERROR', 'CRITICAL')\r\n",
        "    Set the log level by value or name.\r\n",
        "--ext=<Unicode> (InteractiveShellApp.extra_extension)\r\n",
        "    Default: ''\r\n",
        "    dotted module name of an IPython extension to load.\r\n",
        "--config=<Unicode> (BaseIPythonApplication.extra_config_file)\r\n",
        "    Default: u''\r\n",
        "    Path to an extra config file to load.\r\n",
        "    If specified, load this config file in addition to any other IPython config.\r\n",
        "\r\n",
        "To see all available configurables, use `--help-all`\r\n",
        "\r\n",
        "Examples\r\n",
        "--------\r\n",
        "\r\n",
        "    ipython --matplotlib       # enable matplotlib integration\r\n",
        "    ipython --matplotlib=qt    # enable matplotlib integration with qt4 backend\r\n",
        "    \r\n",
        "    ipython --log-level=DEBUG  # set logging to DEBUG\r\n",
        "    ipython --profile=foo      # start with profile foo\r\n",
        "    \r\n",
        "    ipython qtconsole          # start the qtconsole GUI application\r\n",
        "    ipython help qtconsole     # show the help for the qtconsole subcmd\r\n",
        "    \r\n",
        "    ipython console            # start the terminal-based console application\r\n",
        "    ipython help console       # show the help for the console subcmd\r\n",
        "    \r\n",
        "    ipython notebook           # start the IPython notebook\r\n",
        "    ipython help notebook      # show the help for the notebook subcmd\r\n",
        "    \r\n",
        "    ipython profile create foo # create profile foo w/ default config files\r\n",
        "    ipython help profile       # show the help for the profile subcmd\r\n",
        "    \r\n",
        "    ipython locate             # print the path to the IPython directory\r\n",
        "    ipython locate profile foo # print the path to the directory for profile `foo`\r\n",
        "    \r\n",
        "    ipython nbconvert           # convert notebooks to/from other formats\r\n",
        "\r\n"
       ]
      }
     ],
     "prompt_number": 1
    },
    {
     "cell_type": "markdown",
     "metadata": {},
     "source": [
      "This is an important trick for finding out configuration info:\n",
      "    \n",
      "    $> ipython [subcommand] --help-all | grep [-C context] PATTERN\n",
      "\n",
      "`--help-all` exposes everything configurable in IPython,\n",
      "there is a good chance you will find what you are looking for."
     ]
    },
    {
     "cell_type": "markdown",
     "metadata": {},
     "source": [
      "A common configuration question is:\n",
      "\n",
      "> how do I disable the \"Do you really want to exit\" message when quitting with `Ctrl-d`?\n",
      "\n",
      "Well, logically this has to do with `exit`, so let's look for it:"
     ]
    },
    {
     "cell_type": "code",
     "collapsed": false,
     "input": [
      "!ipython --help-all | GREP_COLOR='1;31;46' grep --color exit"
     ],
     "language": "python",
     "metadata": {},
     "outputs": [
      {
       "output_type": "stream",
       "stream": "stdout",
       "text": [
        "    If invoked with no options, it executes the file and \u001b[1;31;46m\u001b[Kexit\u001b[m\u001b[Ks, passing the\r\n",
        "    IPython session after running the script, rather than \u001b[1;31;46m\u001b[Kexit\u001b[m\u001b[King. Files ending\r\n",
        "--confirm-\u001b[1;31;46m\u001b[Kexit\u001b[m\u001b[K\r\n",
        "    Set to confirm when you try to \u001b[1;31;46m\u001b[Kexit\u001b[m\u001b[K IPython with an EOF (Control-D\r\n",
        "    in Unix, Control-Z/Enter in Windows). By typing '\u001b[1;31;46m\u001b[Kexit\u001b[m\u001b[K' or 'quit',\r\n",
        "    you can force a direct \u001b[1;31;46m\u001b[Kexit\u001b[m\u001b[K without any confirmation.\r\n",
        "--no-confirm-\u001b[1;31;46m\u001b[Kexit\u001b[m\u001b[K\r\n",
        "    Don't prompt the user when \u001b[1;31;46m\u001b[Kexit\u001b[m\u001b[King.\r\n",
        "--TerminalInteractiveShell.confirm_\u001b[1;31;46m\u001b[Kexit\u001b[m\u001b[K=<CBool>\r\n",
        "    Set to confirm when you try to \u001b[1;31;46m\u001b[Kexit\u001b[m\u001b[K IPython with an EOF (Control-D in Unix,\r\n",
        "    Control-Z/Enter in Windows). By typing '\u001b[1;31;46m\u001b[Kexit\u001b[m\u001b[K' or 'quit', you can force a\r\n",
        "    direct \u001b[1;31;46m\u001b[Kexit\u001b[m\u001b[K without any confirmation.\r\n"
       ]
      }
     ],
     "prompt_number": 2
    },
    {
     "cell_type": "markdown",
     "metadata": {},
     "source": [
      "Which shows me that I can disable the confirmation for a single IPython session with\n",
      "\n",
      "    $> ipython --no-confirm-exit\n",
      "    \n",
      "or I can set the `TerminalInteractiveShell.confirm_exit=False` in a config file,\n",
      "to have it be the default behavior."
     ]
    },
    {
     "cell_type": "heading",
     "level": 2,
     "metadata": {},
     "source": [
      "Configuration principles"
     ]
    },
    {
     "cell_type": "markdown",
     "metadata": {},
     "source": [
      "Here are the design principles of the IPython configuration system: \n",
      "\n",
      "* Configuration is always done using class attributes\n",
      "* Classes that have configurable attributes are subclasses of `Configurable`\n",
      "* Attributes that are configurable are typed traitlets objects (`Bool`, `Unicode`, etc.) that have `config=True`\n",
      "* In config files, configurable attributes can be set using the format `Class.attr_name=the_value`\n",
      "* At the command line, configurable attributes can be set using the syntax `--Class.attr_name=the_value`\n",
      "* At the command line, some attributes have shorthands of the form `--attr-name=value`\n",
      "* Values set at the command line have higher priority than those set in config files"
     ]
    },
    {
     "cell_type": "heading",
     "level": 2,
     "metadata": {},
     "source": [
      "The IPython Profile"
     ]
    },
    {
     "cell_type": "markdown",
     "metadata": {},
     "source": [
      "IPython has a notion of 'profiles' - these are directories that live in your IPYTHONDIR,\n",
      "which contain configuration and runtime information.\n",
      "\n",
      "Let's create the default profile"
     ]
    },
    {
     "cell_type": "code",
     "collapsed": false,
     "input": [
      "!ipython profile create newprofile"
     ],
     "language": "python",
     "metadata": {},
     "outputs": [],
     "prompt_number": 3
    },
    {
     "cell_type": "markdown",
     "metadata": {},
     "source": [
      "This creates a profile in your IPYTHONDIR (`ipython locate` is a quick way to see where your IPYTHONDIR is),\n",
      "and populates it with automatically generated default config files."
     ]
    },
    {
     "cell_type": "code",
     "collapsed": false,
     "input": [
      "!ipython locate profile default\n",
      "!ipython locate profile newprofile"
     ],
     "language": "python",
     "metadata": {},
     "outputs": [
      {
       "output_type": "stream",
       "stream": "stdout",
       "text": [
        "/home/fperez/.ipython/profile_default\r\n"
       ]
      },
      {
       "output_type": "stream",
       "stream": "stdout",
       "text": [
        "/home/fperez/.ipython/profile_newprofile\r\n"
       ]
      }
     ],
     "prompt_number": 4
    },
    {
     "cell_type": "markdown",
     "metadata": {},
     "source": [
      "You can skim"
     ]
    },
    {
     "cell_type": "code",
     "collapsed": false,
     "input": [
      "profile = get_ipython().profile_dir.location\n",
      "profile"
     ],
     "language": "python",
     "metadata": {},
     "outputs": [
      {
       "metadata": {},
       "output_type": "pyout",
       "prompt_number": 5,
       "text": [
        "u'/home/fperez/.ipython/profile_default'"
       ]
      }
     ],
     "prompt_number": 5
    },
    {
     "cell_type": "code",
     "collapsed": false,
     "input": [
      "ls $profile"
     ],
     "language": "python",
     "metadata": {},
     "outputs": [
      {
       "output_type": "stream",
       "stream": "stdout",
       "text": [
        "\u001b[0m\u001b[01;36mdb\u001b[0m/                     \u001b[00mipython_config.py\u001b[0m            \u001b[01;36mlog\u001b[0m/       \u001b[01;36mstartup\u001b[0m/\r\n",
        "\u001b[00mhistory.sqlite\u001b[0m          \u001b[00mipython_notebook_config.py\u001b[0m   \u001b[01;36mpid\u001b[0m/       \u001b[01;36mstatic\u001b[0m/\r\n",
        "\u001b[00mipcontroller_config.py\u001b[0m  \u001b[00mipython_qtconsole_config.py\u001b[0m  \u001b[01;36msecurity\u001b[0m/\r\n"
       ]
      }
     ],
     "prompt_number": 6
    },
    {
     "cell_type": "markdown",
     "metadata": {},
     "source": [
      "Let's peek at our config file"
     ]
    },
    {
     "cell_type": "code",
     "collapsed": false,
     "input": [
      "pycat $profile/ipython_config.py"
     ],
     "language": "python",
     "metadata": {},
     "outputs": [],
     "prompt_number": 7
    },
    {
     "cell_type": "heading",
     "level": 2,
     "metadata": {},
     "source": [
      "Startup Files"
     ]
    },
    {
     "cell_type": "markdown",
     "metadata": {},
     "source": [
      "Startup files are simple Python or IPython scripts\n",
      "that are run whenever you start IPython.\n",
      "These are a useful way to do super common imports,\n",
      "or for building database connections to load on startup of a non-default profile.\n",
      "\n",
      "We can use a startup file to ensure that our `%tic/toc` magics are always defined,\n",
      "every time we start IPython."
     ]
    },
    {
     "cell_type": "code",
     "collapsed": false,
     "input": [
      "!ls $profile/startup"
     ],
     "language": "python",
     "metadata": {},
     "outputs": [
      {
       "output_type": "stream",
       "stream": "stdout",
       "text": [
        "README\tsimpleimports.py\r\n"
       ]
      }
     ],
     "prompt_number": 8
    },
    {
     "cell_type": "code",
     "collapsed": false,
     "input": [
      "!cat $profile/startup/README"
     ],
     "language": "python",
     "metadata": {},
     "outputs": [
      {
       "output_type": "stream",
       "stream": "stdout",
       "text": [
        "This is the IPython startup directory\r\n",
        "\r\n",
        ".py and .ipy files in this directory will be run *prior* to any code or files specified\r\n",
        "via the exec_lines or exec_files configurables whenever you load this profile.\r\n",
        "\r\n",
        "Files will be run in lexicographical order, so you can control the execution order of files\r\n",
        "with a prefix, e.g.::\r\n",
        "\r\n",
        "    00-first.py\r\n",
        "    50-middle.py\r\n",
        "    99-last.ipy\r\n"
       ]
      }
     ],
     "prompt_number": 9
    },
    {
     "cell_type": "markdown",
     "metadata": {},
     "source": [
      "Adding common imports, so we never have to forget them again"
     ]
    },
    {
     "cell_type": "code",
     "collapsed": false,
     "input": [
      "%%writefile $profile/startup/simpleimports.py\n",
      "\n",
      "import sys, os, time, re"
     ],
     "language": "python",
     "metadata": {},
     "outputs": [
      {
       "output_type": "stream",
       "stream": "stdout",
       "text": [
        "Overwriting /home/fperez/.ipython/profile_default/startup/simpleimports.py\n"
       ]
      }
     ],
     "prompt_number": 10
    },
    {
     "cell_type": "markdown",
     "metadata": {},
     "source": [
      "**Restart the kernel** and then run the following cells immediately to verify these scripts have been executed:"
     ]
    },
    {
     "cell_type": "code",
     "collapsed": false,
     "input": [
      "sys"
     ],
     "language": "python",
     "metadata": {},
     "outputs": [
      {
       "metadata": {},
       "output_type": "pyout",
       "prompt_number": 11,
       "text": [
        "<module 'sys' (built-in)>"
       ]
      }
     ],
     "prompt_number": 11
    },
    {
     "cell_type": "heading",
     "level": 2,
     "metadata": {},
     "source": [
      "Defining your own magic"
     ]
    },
    {
     "cell_type": "markdown",
     "metadata": {},
     "source": [
      "As we have seen already, IPython has cell and line magics. You can define your own magics using any Python function and the `register_magic_function` method:"
     ]
    },
    {
     "cell_type": "code",
     "collapsed": false,
     "input": [
      "from IPython.core.magic import (register_line_magic, register_cell_magic,\n",
      "                                register_line_cell_magic)"
     ],
     "language": "python",
     "metadata": {},
     "outputs": [],
     "prompt_number": 12
    },
    {
     "cell_type": "code",
     "collapsed": false,
     "input": [
      "@register_line_magic\n",
      "def sleep(line):\n",
      "    \"\"\"A simple function for sleeping\"\"\"\n",
      "    import time\n",
      "    t = float(line)\n",
      "    time.sleep(t)"
     ],
     "language": "python",
     "metadata": {},
     "outputs": [],
     "prompt_number": 13
    },
    {
     "cell_type": "code",
     "collapsed": false,
     "input": [
      "%sleep 2"
     ],
     "language": "python",
     "metadata": {},
     "outputs": [],
     "prompt_number": 14
    },
    {
     "cell_type": "code",
     "collapsed": false,
     "input": [
      "%sleep?"
     ],
     "language": "python",
     "metadata": {},
     "outputs": [],
     "prompt_number": 15
    },
    {
     "cell_type": "heading",
     "level": 3,
     "metadata": {},
     "source": [
      "Cell Magic"
     ]
    },
    {
     "cell_type": "markdown",
     "metadata": {},
     "source": [
      "**Cell magics** take two args:\n",
      "\n",
      "1. the **line** on the same line of the magic \n",
      "2. the **cell** the multiline body of the cell after the first line"
     ]
    },
    {
     "cell_type": "code",
     "collapsed": false,
     "input": [
      "@register_cell_magic\n",
      "def dummy(line, cell):\n",
      "    \"\"\"dummy cell magic for displaying the line and cell it is passed\"\"\"\n",
      "    print \"line: %r\" % line\n",
      "    print \"cell: %r\" % cell"
     ],
     "language": "python",
     "metadata": {},
     "outputs": [],
     "prompt_number": 16
    },
    {
     "cell_type": "code",
     "collapsed": false,
     "input": [
      "%%dummy this is the line\n",
      "this\n",
      "is the\n",
      "cell"
     ],
     "language": "python",
     "metadata": {},
     "outputs": [
      {
       "output_type": "stream",
       "stream": "stdout",
       "text": [
        "line: u'this is the line'\n",
        "cell: u'this\\nis the\\ncell'\n"
       ]
      }
     ],
     "prompt_number": 18
    },
    {
     "cell_type": "markdown",
     "metadata": {},
     "source": [
      "For more details on declaring your own magics in more complex scenarios, [see our docs](http://ipython.org/ipython-doc/stable/interactive/reference.html#defining-your-own-magics)."
     ]
    }
   ],
   "metadata": {}
  }
 ]
}